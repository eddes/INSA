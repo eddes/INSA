{
 "cells": [
  {
   "cell_type": "markdown",
   "id": "8ac223b8",
   "metadata": {},
   "source": [
    "# Intégration numérique\n",
    "\n",
    "Pour le réaliser sans installation, depuis un navigateur :\n",
    "<a href=\"https://colab.research.google.com/github/eddes/INSA/blob/main/python/tuto_integration.ipynb\"> ça se passe ici<a>\n",
    "\n",
    "On peut distinguer deux cas d'intégration : le cas où la fonction analytique est connue (par exemple l'énergie spectrale du spectre solaire) et celui - le plus courant - où elle est inconnue, par exemple lorsqu'on souhaite intégrer des mesures.\n",
    "\n",
    "\n",
    "\n",
    "## Intégration d'une fonction analytique\n",
    "    \n",
    "Le calcul de l'énergie $E = \\int P.dt$ peut se faire numériquement (ouf). Pour cela il y a diverses méthodes d'intégration (<a href=\"https://fr.wikipedia.org/wiki/Calcul_num%C3%A9rique_d%27une_int%C3%A9grale\">un rappel<a>).\n",
    "    \n",
    "Prenons l'exemple de la fonction $f(x)=x$ décrit ci-dessous."
   ]
  },
  {
   "cell_type": "code",
   "execution_count": 18,
   "id": "f4701329",
   "metadata": {},
   "outputs": [
    {
     "name": "stdout",
     "output_type": "stream",
     "text": [
      "et l'intégrale de y=x entre 0 et 1 vaut... 0.5\n"
     ]
    }
   ],
   "source": [
    "# l'import de la librairie qui fait ce genre de choses\n",
    "import scipy.integrate as integrate\n",
    "\n",
    "# on définit la fonction à intégrer\n",
    "def fc_interp(x):\n",
    "    return x\n",
    "\n",
    "E = integrate.quad(lambda x: fc_interp(x), 0, 1)[0]\n",
    "print(\"et l'intégrale de y=x entre 0 et 1 vaut...\", E)"
   ]
  },
  {
   "cell_type": "markdown",
   "id": "43b32c79",
   "metadata": {},
   "source": [
    "<span style=\"color:green\"> *À vous de jouer : calculez l'intégrale de $f(x)=x^3 +2$ entre $0$ et $1$ puis vérifiez la valeur analytiquement.* </span>"
   ]
  },
  {
   "cell_type": "code",
   "execution_count": 16,
   "id": "8c6c9d5a",
   "metadata": {},
   "outputs": [],
   "source": [
    "import scipy.integrate as integrate\n",
    "# ...\n"
   ]
  },
  {
   "cell_type": "markdown",
   "id": "bf370b7a",
   "metadata": {},
   "source": [
    "<span style=\"color:green\"> *Bonus : calculez l'énergie contenue dans le spectre solaire (<a href=\"https://eddes.github.io/#numerical-integration\">une piste<a>).* </span>"
   ]
  },
  {
   "cell_type": "markdown",
   "id": "496e5eb3",
   "metadata": {},
   "source": [
    "## Intégration de mesures\n",
    "\n",
    "Il est évidemment plus courant de travailler avec des points mesurés, et non avec des fonctions analytiques connues comme ci-avant. Afin de pouvoir utiliser la procédure vue ci-dessus, l'astuce consiste à créer une fonction qui interpole à partir des données (ce sera une interpolation linéaire).\n",
    "\n",
    "### Faire une fonction d'interpolation\n",
    "\n",
    "Prenons un exemple très simple pour nous mettre dans le bain :"
   ]
  },
  {
   "cell_type": "code",
   "execution_count": 24,
   "id": "363f46b4-0ab9-4c8f-a2fe-a1afa5e262b7",
   "metadata": {
    "scrolled": true
   },
   "outputs": [
    {
     "data": {
      "image/png": "[encoded data removed]",
      "text/plain": [
       "<Figure size 432x288 with 1 Axes>"
      ]
     },
     "metadata": {
      "needs_background": "light"
     },
     "output_type": "display_data"
    }
   ],
   "source": [
    "import matplotlib.pyplot as plt\n",
    "from scipy.interpolate import interp1d\n",
    "# les donnees mesurees\n",
    "temps = [0, 2, 10] # en heures\n",
    "puissance = [0, 4, 100] # en Watts\n",
    "plt.plot(temps,puissance, 'o', label='mesure')\n",
    "\n",
    "import scipy.interpolate # package d'interpolation\n",
    "\n",
    "# creation fc d'interpolation a partir des donnees\n",
    "fc_interp = scipy.interpolate.interp1d(temps, puissance)"
   ]
  },
  {
   "cell_type": "markdown",
   "id": "ab0d9594-052a-4057-90e3-840dca281ab7",
   "metadata": {},
   "source": [
    "Ensuite on vérifie que notre interpolation est bonne et on integre avec le package scipy"
   ]
  },
  {
   "cell_type": "code",
   "execution_count": 26,
   "id": "24d043fc-68a1-4709-b94b-f6e657c7fd73",
   "metadata": {},
   "outputs": [
    {
     "name": "stdout",
     "output_type": "stream",
     "text": [
      "L'energie vaut...  (371.4999993958045, 1.4465165349974995e-06)\n"
     ]
    },
    {
     "data": {
      "image/png": "[encoded data removed]",
      "text/plain": [
       "<Figure size 432x288 with 1 Axes>"
      ]
     },
     "metadata": {
      "needs_background": "light"
     },
     "output_type": "display_data"
    }
   ],
   "source": [
    "import matplotlib.pyplot as plt\n",
    "import numpy as np\n",
    "\n",
    "temps_regulier = np.arange(0,10,0.5)\n",
    "p_regulier=fc_interp(temps_regulier)\n",
    "\n",
    "plt.plot(temps,puissance,'o', label='mesure')\n",
    "plt.plot(temps_regulier ,p_regulier, '--', label='interpolation')\n",
    "plt.legend()\n",
    "\n",
    "#... et on integre\n",
    "import scipy.integrate as integrate\n",
    "energie = integrate.quad(lambda temps_regulier : fc_interp(temps_regulier), min(temps_regulier ), max(temps_regulier))\n",
    "print(\"L'energie vaut... \", energie, \" [Wh]\")"
   ]
  },
  {
   "cell_type": "markdown",
   "id": "48908865-f052-42a8-9b91-02f588459a0e",
   "metadata": {},
   "source": [
    "\n",
    "### Application sur données rélles\n",
    "\n",
    "Dans le cas présent, les données mesurées sont un débit d'eau sur un réseau de chaleur en m3/h avec les températures et le temps (<a href=\"https://github.com/eddes/INSA/blob/main/Techniques_numeriques/debit_dt.csv\">c'est ici<a>).\n",
    "\n",
    "On appliquera donc la formule $P = \\rho Q_v C_p (T_c - T_f) $ pour calculer la puissance, avec $C_p=4200$ [J/kg/K] et $\\rho=1000$ [kg/m$^3$]. Ensuite il va falloir intégrer !"
   ]
  },
  {
   "cell_type": "code",
   "execution_count": null,
   "id": "3c501f70",
   "metadata": {},
   "outputs": [],
   "source": [
    "import scipy.interpolate # package d'interpolation\n",
    "# les donnees mesurees\n",
    "#temps = ...\n",
    "#puissance = ...\n",
    "# creation fc d'interpolation a partir des donnees\n",
    "fc_interp = scipy.interpolate.interp1d(x, y)"
   ]
  }
 ],
 "metadata": {
  "kernelspec": {
   "display_name": "Python 3 (ipykernel)",
   "language": "python",
   "name": "python3"
  },
  "language_info": {
   "codemirror_mode": {
    "name": "ipython",
    "version": 3
   },
   "file_extension": ".py",
   "mimetype": "text/x-python",
   "name": "python",
   "nbconvert_exporter": "python",
   "pygments_lexer": "ipython3",
   "version": "3.9.12"
  }
 },
 "nbformat": 4,
 "nbformat_minor": 5
}
