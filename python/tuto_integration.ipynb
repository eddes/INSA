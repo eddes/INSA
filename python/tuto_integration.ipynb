{
 "cells": [
  {
   "cell_type": "markdown",
   "id": "8ac223b8",
   "metadata": {},
   "source": [
    "# Intégration numérique\n",
    "\n",
    "Pour le réaliser sans installation, depuis un navigateur :\n",
    "<a href=\"https://colab.research.google.com/github/eddes/INSA/blob/main/python/tuto_integration.ipynb\"> ça se passe ici<a>\n",
    "\n",
    "On peut distinguer deux cas d'intégration : le cas où la fonction analytique est connue (par exemple l'énergie spectrale du spectre solaire) et celui - le plus courant - où elle est inconnue, par exemple lorsqu'on souhaite intégrer des mesures.\n",
    "\n",
    "\n",
    "\n",
    "## Intégration d'une fonction analytique\n",
    "    \n",
    "Le calcul de l'énergie $E = \\int P.dt$ peut se faire numériquement (ouf). Pour cela il y a diverses méthodes d'intégration (<a href=\"https://fr.wikipedia.org/wiki/Calcul_num%C3%A9rique_d%27une_int%C3%A9grale\">un rappel<a>).\n",
    "    \n",
    "Prenons l'exemple de la fonction $f(x)=x$ décrit ci-dessous."
   ]
  },
  {
   "cell_type": "code",
   "execution_count": 3,
   "id": "f4701329",
   "metadata": {},
   "outputs": [
    {
     "name": "stdout",
     "output_type": "stream",
     "text": [
      "et l'intégrale de y=x entre 0 et 1 vaut... 0.5\n"
     ]
    }
   ],
   "source": [
    "# l'import de la librairie qui fait ce genre de choses\n",
    "import scipy.integrate as integrate\n",
    "\n",
    "# on définit la fonction à intégrer\n",
    "def fc_interp(x):\n",
    "    return x\n",
    "\n",
    "E = integrate.quad(lambda x: fc_interp(x), 0, 1)[0]\n",
    "print(\"et l'intégrale de y=x entre 0 et 1 vaut...\", E)"
   ]
  },
  {
   "cell_type": "markdown",
   "id": "43b32c79",
   "metadata": {},
   "source": [
    "<span style=\"color:green\"> *À vous de jouer : calculez l'intégrale de $f(x)=x^3 +2$ entre $0$ et $1$ puis vérifiez la valeur analytiquement.* </span>"
   ]
  },
  {
   "cell_type": "code",
   "execution_count": 4,
   "id": "8c6c9d5a",
   "metadata": {},
   "outputs": [],
   "source": [
    "import scipy.integrate as integrate\n",
    "# ...\n"
   ]
  },
  {
   "cell_type": "markdown",
   "id": "bf370b7a",
   "metadata": {},
   "source": [
    "<span style=\"color:green\"> *Bonus hors séance : calculez l'énergie contenue dans le spectre solaire (<a href=\"https://eddes.github.io/#numerical-integration\">une piste<a>).* </span>"
   ]
  },
  {
   "cell_type": "markdown",
   "id": "496e5eb3",
   "metadata": {},
   "source": [
    "## Intégration de mesures\n",
    "\n",
    "Il est évidemment plus courant de travailler avec des points mesurés, et non avec des fonctions analytiques connues comme ci-avant. La procédure d'appel est la même, cependant nous allons créer une fonction qui interpole à partir des données. Ce sera une interpolation linéaire.\n",
    "\n",
    "### Faire une fonction d'interpolation\n",
    "\n",
    "Prenons un exemple très simple pour nous mettre dans le bain :"
   ]
  },
  {
   "cell_type": "code",
   "execution_count": 1,
   "id": "363f46b4-0ab9-4c8f-a2fe-a1afa5e262b7",
   "metadata": {
    "scrolled": true
   },
   "outputs": [
    {
     "ename": "NameError",
     "evalue": "name 'temps' is not defined",
     "output_type": "error",
     "traceback": [
      "\u001b[0;31m---------------------------------------------------------------------------\u001b[0m",
      "\u001b[0;31mNameError\u001b[0m                                 Traceback (most recent call last)",
      "\u001b[0;32m<ipython-input-1-f6c74d4a8ce5>\u001b[0m in \u001b[0;36m<module>\u001b[0;34m\u001b[0m\n\u001b[1;32m      1\u001b[0m \u001b[0;32mimport\u001b[0m \u001b[0mscipy\u001b[0m\u001b[0;34m.\u001b[0m\u001b[0minterpolate\u001b[0m \u001b[0;31m# package d'interpolation\u001b[0m\u001b[0;34m\u001b[0m\u001b[0m\n\u001b[1;32m      2\u001b[0m \u001b[0;31m# les donnees mesurees\u001b[0m\u001b[0;34m\u001b[0m\u001b[0;34m\u001b[0m\u001b[0m\n\u001b[0;32m----> 3\u001b[0;31m \u001b[0mx\u001b[0m \u001b[0;34m=\u001b[0m \u001b[0mtemps\u001b[0m\u001b[0;34m\u001b[0m\u001b[0m\n\u001b[0m\u001b[1;32m      4\u001b[0m \u001b[0my\u001b[0m \u001b[0;34m=\u001b[0m \u001b[0mpuissance\u001b[0m\u001b[0;34m\u001b[0m\u001b[0m\n\u001b[1;32m      5\u001b[0m \u001b[0;31m# creation fc d'interpolation a partir des donnees\u001b[0m\u001b[0;34m\u001b[0m\u001b[0;34m\u001b[0m\u001b[0m\n",
      "\u001b[0;31mNameError\u001b[0m: name 'temps' is not defined"
     ]
    }
   ],
   "source": [
    "import matplotlib.pyplot as plt\n",
    "temps = [0, 2, 10]\n",
    "puissance = [0, 4, 100]\n",
    "plt.plot(temps,puissance, 'o', label='mesure')\n",
    "\n",
    "import scipy.interpolate # package d'interpolation\n",
    "# les donnees mesurees\n",
    "x = temps\n",
    "y = puissance\n",
    "# creation fc d'interpolation a partir des donnees\n",
    "fc_interp = scipy.interpolate.interp1d(x, y)"
   ]
  },
  {
   "cell_type": "markdown",
   "id": "ab0d9594-052a-4057-90e3-840dca281ab7",
   "metadata": {},
   "source": [
    "Ensuite on vérifie que notre interpolation est bonne et on integre avec le package scipy"
   ]
  },
  {
   "cell_type": "code",
   "execution_count": null,
   "id": "24d043fc-68a1-4709-b94b-f6e657c7fd73",
   "metadata": {},
   "outputs": [],
   "source": [
    "import matplotlib.pyplot as plt\n",
    "temps_regulier = np.arange(0,11,0.5)\n",
    "p_regulier=fc_interp1d(temps_regulier)\n",
    "\n",
    "plt.plot(x,y,'o', label='mesure')\n",
    "plt.plot(temps_regulier ,p_regulier, '--', label='interpolation')\n",
    "plt.legend()\n",
    "\n",
    "#... et on integre\n",
    "import scipy.integrate as integrate\n",
    "energie = integrate.quad(lambda temps_regulier : fc_interp(x), min(temps_regulier ), max(temps_regulier ))[0]\n",
    "print(\"L'energie vaut... \", energie)"
   ]
  },
  {
   "cell_type": "markdown",
   "id": "48908865-f052-42a8-9b91-02f588459a0e",
   "metadata": {},
   "source": [
    "\n",
    "### Application sur données rélles\n",
    "\n",
    "Dans le cas présent, les données mesurées sont un débit d'eau sur un réseau de chaleur en m3/h avec les températures et le temps (<a href=\"https://github.com/eddes/INSA/blob/main/Techniques_numeriques/debit_dt.csv\">c'est ici<a>).\n",
    "\n",
    "On appliquera donc la formule $P = \\rho Q_v C_p (T_c - T_f) $ pour calculer la puissance, avec $C_p=4200$ [J/kg/K] et $\\rho=1000$ [kg/m$^3$]."
   ]
  },
  {
   "cell_type": "code",
   "execution_count": null,
   "id": "3c501f70",
   "metadata": {},
   "outputs": [],
   "source": [
    "import scipy.interpolate # package d'interpolation\n",
    "# les donnees mesurees\n",
    "x = temps\n",
    "y = puissance\n",
    "# creation fc d'interpolation a partir des donnees\n",
    "fc_interp = scipy.interpolate.interp1d(x, y)"
   ]
  },
  {
   "cell_type": "code",
   "execution_count": null,
   "id": "f44d5eac",
   "metadata": {},
   "outputs": [],
   "source": [
    "Ensuite "
   ]
  }
 ],
 "metadata": {
  "kernelspec": {
   "display_name": "Python 3 (ipykernel)",
   "language": "python",
   "name": "python3"
  },
  "language_info": {
   "codemirror_mode": {
    "name": "ipython",
    "version": 3
   },
   "file_extension": ".py",
   "mimetype": "text/x-python",
   "name": "python",
   "nbconvert_exporter": "python",
   "pygments_lexer": "ipython3",
   "version": "3.9.12"
  }
 },
 "nbformat": 4,
 "nbformat_minor": 5
}
