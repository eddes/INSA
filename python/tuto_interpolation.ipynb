{
 "cells": [
  {
   "cell_type": "markdown",
   "id": "496e5eb3",
   "metadata": {},
   "source": [
    "# Interpolation de données\n",
    "\n",
    "\n",
    "Pour le réaliser sans installation, depuis un navigateur :\n",
    "<a href=\"https://colab.research.google.com/github/eddes/INSA/blob/main/python/tuto_interpolation.ipynb\"> ça se passe ici<a>\n",
    "\n",
    "## Principe\n",
    "\n",
    "On travaille couramment avec des grandeurs mesurées dans le temps ou l'espace, à des intervalles réguliers ou irréguliers. Il est parfois utile de pouvoir \"recaler\" les mesures à intervalles régulier. Une méthode simple est d'interpoler entre les données, si la précision souhaitée le permet. Pour ce faire, nous allons créer une fonction qui interpole linéairement à partir les données.\n",
    "\n",
    "### Faire une fonction d'interpolation\n",
    "\n",
    "Prenons un exemple simple pour illustrer le propos."
   ]
  },
  {
   "cell_type": "code",
   "execution_count": 12,
   "id": "b8eec299-6dad-47ea-94b2-8ad19c4e0719",
   "metadata": {},
   "outputs": [
    {
     "data": {
      "image/png": "[encoded data removed]",
      "text/plain": [
       "<Figure size 432x288 with 1 Axes>"
      ]
     },
     "metadata": {
      "needs_background": "light"
     },
     "output_type": "display_data"
    }
   ],
   "source": [
    "# on importe matplotlib pour pouvoir tracer\n",
    "import matplotlib.pyplot as plt\n",
    "# supposons qu'on aie les donnees mesurees suivantes\n",
    "temps = [0, 2, 10]\n",
    "puissance = [0, 4, 100]\n",
    "# on trace pour voir\n",
    "plt.plot(temps,puissance, 'o', label='mesure')\n",
    "\n",
    "# ensuite on importe le package d'interpolation\n",
    "import scipy.interpolate\n",
    "# les donnees mesurees\n",
    "x, y = temps, puissance\n",
    "# creation fc d'interpolation a partir des donnees\n",
    "fc_interp = scipy.interpolate.interp1d(x, y, kind='linear')\n",
    "#on pourra tester l'interpolation quadratique...\n",
    "#fc_interp = scipy.interpolate.interp1d(x, y, kind='quadratic') "
   ]
  },
  {
   "cell_type": "markdown",
   "id": "ab0d9594-052a-4057-90e3-840dca281ab7",
   "metadata": {},
   "source": [
    "Ensuite on vérifie que notre interpolation est bonne"
   ]
  },
  {
   "cell_type": "code",
   "execution_count": 13,
   "id": "24d043fc-68a1-4709-b94b-f6e657c7fd73",
   "metadata": {},
   "outputs": [
    {
     "data": {
      "text/plain": [
       "<matplotlib.legend.Legend at 0x20d72e1d3a0>"
      ]
     },
     "execution_count": 13,
     "metadata": {},
     "output_type": "execute_result"
    },
    {
     "data": {
      "image/png": "[encoded data removed]",
      "text/plain": [
       "<Figure size 432x288 with 1 Axes>"
      ]
     },
     "metadata": {
      "needs_background": "light"
     },
     "output_type": "display_data"
    }
   ],
   "source": [
    "import numpy as np\n",
    "temps_regulier = np.arange(0,11,1)\n",
    "puissance_regulier = fc_interp(temps_regulier)\n",
    "\n",
    "plt.plot(x,y,'o', label='mesure')\n",
    "plt.plot(temps_regulier,puissance_regulier, '--x', label='interpolation')\n",
    "plt.legend()"
   ]
  },
  {
   "cell_type": "markdown",
   "id": "48908865-f052-42a8-9b91-02f588459a0e",
   "metadata": {},
   "source": [
    "\n",
    "## Application sur données rélles\n",
    "\n",
    "Dans le cas présent on s'intéresse aux données de déplacement d'un IGH en fonction du temps (<a href=\"https://github.com/eddes/INSA/blob/main/Techniques_numeriques/data_deplacement.txt\"> c'est ici <a>).\n",
    "    Les données sont au pas de temps horaire et on souhaite les avoir au quart d'heure. À vous !"
   ]
  },
  {
   "cell_type": "code",
   "execution_count": 4,
   "id": "3c501f70",
   "metadata": {},
   "outputs": [],
   "source": [
    "import scipy.interpolate # package d'interpolation\n",
    "# les donnees mesurees\n",
    "x = temps\n",
    "y = puissance\n",
    "# creation fc d'interpolation a partir des donnees\n",
    "fc_interp = scipy.interpolate.interp1d(x, y)"
   ]
  }
 ],
 "metadata": {
  "kernelspec": {
   "display_name": "Python 3 (ipykernel)",
   "language": "python",
   "name": "python3"
  },
  "language_info": {
   "codemirror_mode": {
    "name": "ipython",
    "version": 3
   },
   "file_extension": ".py",
   "mimetype": "text/x-python",
   "name": "python",
   "nbconvert_exporter": "python",
   "pygments_lexer": "ipython3",
   "version": "3.9.12"
  }
 },
 "nbformat": 4,
 "nbformat_minor": 5
}
