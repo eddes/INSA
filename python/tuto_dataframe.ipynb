{
 "cells": [
  {
   "cell_type": "markdown",
   "id": "478e9cb0",
   "metadata": {},
   "source": [
    "# Traiter la donnée -- Dataframes\n",
    "\n",
    "\n",
    "Pour le réaliser sans installation, depuis un navigateur :\n",
    "<a href=\"https://colab.research.google.com/github/eddes/INSA/blob/main/python/tuto_dataframe.ipynb\"> ça se passe ici<a>\n",
    "\n",
    "\n",
    "Dans de nombreux des domaines, la donnée disponible est fournie dans des fichiers texte, où les valeurs des différentes grandeurs sont séparées par des virgules (vos tableurs favoris exportent parfois en `.csv` - acronyme de _comma separated values_).\n",
    "    \n",
    "Une librairie particulièrement bien adaptée au traitement de tels fichiers est `pandas`. Dans ce qui suit, nous allons eb apprendre les bases.\n",
    "    \n",
    "## Ouverture et affichage de base\n",
    "\n",
    "Ouvrons un des fichiers de données météorologiques mesurées près de la ville de Strasbourg en 2023."
   ]
  },
  {
   "cell_type": "code",
   "execution_count": 4,
   "id": "7d6bea42",
   "metadata": {
    "scrolled": true
   },
   "outputs": [],
   "source": [
    "import pandas as pd\n",
    "chemin='./src/meteo_Strasbourg_2023.csv'\n",
    "donnee = pd.read_csv(chemin)"
   ]
  },
  {
   "cell_type": "markdown",
   "id": "a30bbc40",
   "metadata": {},
   "source": [
    "Pour afficher quelques stats de base sur les données :"
   ]
  },
  {
   "cell_type": "code",
   "execution_count": 5,
   "id": "dea4a5d7",
   "metadata": {},
   "outputs": [
    {
     "data": {
      "text/html": [
       "<div>\n",
       "<style scoped>\n",
       "    .dataframe tbody tr th:only-of-type {\n",
       "        vertical-align: middle;\n",
       "    }\n",
       "\n",
       "    .dataframe tbody tr th {\n",
       "        vertical-align: top;\n",
       "    }\n",
       "\n",
       "    .dataframe thead th {\n",
       "        text-align: right;\n",
       "    }\n",
       "</style>\n",
       "<table border=\"1\" class=\"dataframe\">\n",
       "  <thead>\n",
       "    <tr style=\"text-align: right;\">\n",
       "      <th></th>\n",
       "      <th>temp</th>\n",
       "      <th>dwpt</th>\n",
       "      <th>rhum</th>\n",
       "      <th>prcp</th>\n",
       "      <th>snow</th>\n",
       "      <th>wdir</th>\n",
       "      <th>wspd</th>\n",
       "      <th>wpgt</th>\n",
       "      <th>pres</th>\n",
       "      <th>tsun</th>\n",
       "      <th>coco</th>\n",
       "    </tr>\n",
       "  </thead>\n",
       "  <tbody>\n",
       "    <tr>\n",
       "      <th>count</th>\n",
       "      <td>1848.000000</td>\n",
       "      <td>1848.000000</td>\n",
       "      <td>1848.000000</td>\n",
       "      <td>1848.000000</td>\n",
       "      <td>608.0</td>\n",
       "      <td>1848.000000</td>\n",
       "      <td>1848.000000</td>\n",
       "      <td>1848.000000</td>\n",
       "      <td>1848.000000</td>\n",
       "      <td>0.0</td>\n",
       "      <td>1848.000000</td>\n",
       "    </tr>\n",
       "    <tr>\n",
       "      <th>mean</th>\n",
       "      <td>19.921916</td>\n",
       "      <td>10.926840</td>\n",
       "      <td>59.792208</td>\n",
       "      <td>0.052489</td>\n",
       "      <td>0.0</td>\n",
       "      <td>170.846861</td>\n",
       "      <td>11.822294</td>\n",
       "      <td>21.776136</td>\n",
       "      <td>1016.550866</td>\n",
       "      <td>NaN</td>\n",
       "      <td>4.145563</td>\n",
       "    </tr>\n",
       "    <tr>\n",
       "      <th>std</th>\n",
       "      <td>5.818102</td>\n",
       "      <td>3.669961</td>\n",
       "      <td>19.372118</td>\n",
       "      <td>0.420076</td>\n",
       "      <td>0.0</td>\n",
       "      <td>129.132250</td>\n",
       "      <td>6.827365</td>\n",
       "      <td>9.394996</td>\n",
       "      <td>3.602004</td>\n",
       "      <td>NaN</td>\n",
       "      <td>2.867574</td>\n",
       "    </tr>\n",
       "    <tr>\n",
       "      <th>min</th>\n",
       "      <td>4.500000</td>\n",
       "      <td>2.100000</td>\n",
       "      <td>21.000000</td>\n",
       "      <td>0.000000</td>\n",
       "      <td>0.0</td>\n",
       "      <td>0.000000</td>\n",
       "      <td>0.000000</td>\n",
       "      <td>3.700000</td>\n",
       "      <td>1007.700000</td>\n",
       "      <td>NaN</td>\n",
       "      <td>1.000000</td>\n",
       "    </tr>\n",
       "    <tr>\n",
       "      <th>25%</th>\n",
       "      <td>15.575000</td>\n",
       "      <td>8.500000</td>\n",
       "      <td>44.000000</td>\n",
       "      <td>0.000000</td>\n",
       "      <td>0.0</td>\n",
       "      <td>30.000000</td>\n",
       "      <td>6.000000</td>\n",
       "      <td>14.800000</td>\n",
       "      <td>1014.000000</td>\n",
       "      <td>NaN</td>\n",
       "      <td>4.000000</td>\n",
       "    </tr>\n",
       "    <tr>\n",
       "      <th>50%</th>\n",
       "      <td>19.200000</td>\n",
       "      <td>10.500000</td>\n",
       "      <td>60.000000</td>\n",
       "      <td>0.000000</td>\n",
       "      <td>0.0</td>\n",
       "      <td>180.000000</td>\n",
       "      <td>11.000000</td>\n",
       "      <td>20.400000</td>\n",
       "      <td>1016.300000</td>\n",
       "      <td>NaN</td>\n",
       "      <td>4.000000</td>\n",
       "    </tr>\n",
       "    <tr>\n",
       "      <th>75%</th>\n",
       "      <td>24.500000</td>\n",
       "      <td>13.600000</td>\n",
       "      <td>75.000000</td>\n",
       "      <td>0.000000</td>\n",
       "      <td>0.0</td>\n",
       "      <td>300.000000</td>\n",
       "      <td>16.600000</td>\n",
       "      <td>27.800000</td>\n",
       "      <td>1018.700000</td>\n",
       "      <td>NaN</td>\n",
       "      <td>4.000000</td>\n",
       "    </tr>\n",
       "    <tr>\n",
       "      <th>max</th>\n",
       "      <td>36.000000</td>\n",
       "      <td>21.000000</td>\n",
       "      <td>100.000000</td>\n",
       "      <td>9.000000</td>\n",
       "      <td>0.0</td>\n",
       "      <td>360.000000</td>\n",
       "      <td>35.300000</td>\n",
       "      <td>57.000000</td>\n",
       "      <td>1026.100000</td>\n",
       "      <td>NaN</td>\n",
       "      <td>25.000000</td>\n",
       "    </tr>\n",
       "  </tbody>\n",
       "</table>\n",
       "</div>"
      ],
      "text/plain": [
       "              temp         dwpt         rhum         prcp   snow         wdir  \\\n",
       "count  1848.000000  1848.000000  1848.000000  1848.000000  608.0  1848.000000   \n",
       "mean     19.921916    10.926840    59.792208     0.052489    0.0   170.846861   \n",
       "std       5.818102     3.669961    19.372118     0.420076    0.0   129.132250   \n",
       "min       4.500000     2.100000    21.000000     0.000000    0.0     0.000000   \n",
       "25%      15.575000     8.500000    44.000000     0.000000    0.0    30.000000   \n",
       "50%      19.200000    10.500000    60.000000     0.000000    0.0   180.000000   \n",
       "75%      24.500000    13.600000    75.000000     0.000000    0.0   300.000000   \n",
       "max      36.000000    21.000000   100.000000     9.000000    0.0   360.000000   \n",
       "\n",
       "              wspd         wpgt         pres  tsun         coco  \n",
       "count  1848.000000  1848.000000  1848.000000   0.0  1848.000000  \n",
       "mean     11.822294    21.776136  1016.550866   NaN     4.145563  \n",
       "std       6.827365     9.394996     3.602004   NaN     2.867574  \n",
       "min       0.000000     3.700000  1007.700000   NaN     1.000000  \n",
       "25%       6.000000    14.800000  1014.000000   NaN     4.000000  \n",
       "50%      11.000000    20.400000  1016.300000   NaN     4.000000  \n",
       "75%      16.600000    27.800000  1018.700000   NaN     4.000000  \n",
       "max      35.300000    57.000000  1026.100000   NaN    25.000000  "
      ]
     },
     "execution_count": 5,
     "metadata": {},
     "output_type": "execute_result"
    }
   ],
   "source": [
    "donnee.describe()"
   ]
  },
  {
   "cell_type": "markdown",
   "id": "c4dff56d",
   "metadata": {},
   "source": [
    "On peut donc, pour chaque colonne, lire les min/max ainsi que les percentiles de la série.\n",
    "\n",
    "Ensuite, il est pratique de connaître le nom des données stockées, pour pouvoir les appeler séparément :"
   ]
  },
  {
   "cell_type": "code",
   "execution_count": 6,
   "id": "1a989f96",
   "metadata": {},
   "outputs": [
    {
     "data": {
      "text/plain": [
       "Index(['time', 'temp', 'dwpt', 'rhum', 'prcp', 'snow', 'wdir', 'wspd', 'wpgt',\n",
       "       'pres', 'tsun', 'coco'],\n",
       "      dtype='object')"
      ]
     },
     "execution_count": 6,
     "metadata": {},
     "output_type": "execute_result"
    }
   ],
   "source": [
    "donnee.keys()"
   ]
  },
  {
   "cell_type": "markdown",
   "id": "8d3e6f93",
   "metadata": {},
   "source": [
    "On constate que le temps `time` et la température `temp` sont stockées. On va pouvoir y faire appel simplement par leur nom avec une commande du style :"
   ]
  },
  {
   "cell_type": "code",
   "execution_count": 7,
   "id": "8b85b148",
   "metadata": {},
   "outputs": [
    {
     "data": {
      "text/plain": [
       "0       10.3\n",
       "1        9.8\n",
       "2        9.8\n",
       "3        9.8\n",
       "4       10.0\n",
       "        ... \n",
       "1843    21.0\n",
       "1844    20.0\n",
       "1845    19.6\n",
       "1846    18.0\n",
       "1847    17.0\n",
       "Name: temp, Length: 1848, dtype: float64"
      ]
     },
     "execution_count": 7,
     "metadata": {},
     "output_type": "execute_result"
    }
   ],
   "source": [
    "donnee['temp']"
   ]
  },
  {
   "cell_type": "markdown",
   "id": "c333f7af",
   "metadata": {},
   "source": [
    "On notera la présence d'un index (colonne de gauche qui est affichée). Cet index est commun à toutes les données stockées, lorsqu'il y en a plusieurs. Il peut aussi être un temps (heure/min/sec j/m/a) ce qui se révèlera particulièrement pratique par la suite.\n",
    "\n",
    "Si on souhaite uniquement en prendre les valeurs on utilise le suffixe `values` :"
   ]
  },
  {
   "cell_type": "code",
   "execution_count": 8,
   "id": "690f77f9",
   "metadata": {},
   "outputs": [
    {
     "name": "stdout",
     "output_type": "stream",
     "text": [
      "[10.3  9.8  9.8 ... 19.6 18.  17. ]\n"
     ]
    }
   ],
   "source": [
    "T = donnee['temp'].values\n",
    "print(T)"
   ]
  },
  {
   "cell_type": "markdown",
   "id": "2b813e03",
   "metadata": {},
   "source": [
    "## Sélection de données avec pandas\n",
    "\n",
    "Il est parfois pratique de connaître/isoler rapidement les valeurs en-dessous ou au-dessus d'un certain seuil. Supposons qu'on veuille connaitre les instants où la température est supérieure à 26°C :"
   ]
  },
  {
   "cell_type": "code",
   "execution_count": 9,
   "id": "1786ad97",
   "metadata": {},
   "outputs": [
    {
     "name": "stdout",
     "output_type": "stream",
     "text": [
      "                     time  temp  dwpt  rhum  prcp  snow   wdir  wspd  wpgt  \\\n",
      "495   2023-05-21 15:00:00  26.5  14.3  47.0   0.0   0.0   20.0  16.6  41.0   \n",
      "496   2023-05-21 16:00:00  26.4  13.9  46.0   0.0   NaN   20.0  18.4  25.9   \n",
      "515   2023-05-22 11:00:00  26.3  15.4  51.0   0.0   NaN   40.0   9.4  20.4   \n",
      "516   2023-05-22 12:00:00  27.2  15.2  48.0   0.0   0.0  120.0   3.6  24.0   \n",
      "517   2023-05-22 13:00:00  26.8  15.5  50.0   0.0   NaN  280.0  13.0  24.1   \n",
      "...                   ...   ...   ...   ...   ...   ...    ...   ...   ...   \n",
      "1814  2023-07-15 14:00:00  30.0  17.1  46.0   0.0   NaN  170.0  15.0  29.6   \n",
      "1815  2023-07-15 15:00:00  30.6  19.9  53.0   0.0   0.0   20.0  15.0  31.0   \n",
      "1816  2023-07-15 16:00:00  29.0  19.0  55.0   0.0   NaN  360.0  19.0  40.8   \n",
      "1817  2023-07-15 17:00:00  29.0  19.0  55.0   0.0   NaN   10.0  20.0  33.3   \n",
      "1818  2023-07-15 18:00:00  26.3  18.4  62.0   0.0   0.0  350.0  26.0  37.0   \n",
      "\n",
      "        pres  tsun  coco  \n",
      "495   1010.7   NaN   3.0  \n",
      "496   1011.0   NaN   3.0  \n",
      "515   1012.5   NaN   4.0  \n",
      "516   1012.5   NaN   4.0  \n",
      "517   1012.1   NaN   4.0  \n",
      "...      ...   ...   ...  \n",
      "1814  1010.0   NaN   4.0  \n",
      "1815  1008.6   NaN  18.0  \n",
      "1816  1009.0   NaN  25.0  \n",
      "1817  1009.0   NaN  25.0  \n",
      "1818  1008.9   NaN  25.0  \n",
      "\n",
      "[309 rows x 12 columns]\n"
     ]
    }
   ],
   "source": [
    "fait_chaud = donnee[ donnee['temp'] > 26]\n",
    "print(fait_chaud)"
   ]
  },
  {
   "cell_type": "markdown",
   "id": "8ce9241e",
   "metadata": {},
   "source": [
    "Il y a donc 309 valeurs avec une température supérieure à 26.\n",
    "\n",
    "Pour pouvoir identifier s'il s'agit du jour ou de la nuit, on peut utiliser la colonne `time` en s'assurant de convertir l'horodatage au format qui correspond :"
   ]
  },
  {
   "cell_type": "code",
   "execution_count": 13,
   "id": "c35a2afa",
   "metadata": {},
   "outputs": [
    {
     "ename": "AttributeError",
     "evalue": "'Series' object has no attribute 'hour'",
     "output_type": "error",
     "traceback": [
      "\u001b[1;31m---------------------------------------------------------------------------\u001b[0m",
      "\u001b[1;31mAttributeError\u001b[0m                            Traceback (most recent call last)",
      "Input \u001b[1;32mIn [13]\u001b[0m, in \u001b[0;36m<cell line: 1>\u001b[1;34m()\u001b[0m\n\u001b[1;32m----> 1\u001b[0m donnee[\u001b[43mdonnee\u001b[49m\u001b[43m[\u001b[49m\u001b[38;5;124;43m'\u001b[39;49m\u001b[38;5;124;43mtime\u001b[39;49m\u001b[38;5;124;43m'\u001b[39;49m\u001b[43m]\u001b[49m\u001b[38;5;241;43m.\u001b[39;49m\u001b[43mhour\u001b[49m \u001b[38;5;241m>\u001b[39m \u001b[38;5;241m20\u001b[39m]\n",
      "File \u001b[1;32mC:\\ProgramData\\Anaconda3\\lib\\site-packages\\pandas\\core\\generic.py:5575\u001b[0m, in \u001b[0;36mNDFrame.__getattr__\u001b[1;34m(self, name)\u001b[0m\n\u001b[0;32m   5568\u001b[0m \u001b[38;5;28;01mif\u001b[39;00m (\n\u001b[0;32m   5569\u001b[0m     name \u001b[38;5;129;01mnot\u001b[39;00m \u001b[38;5;129;01min\u001b[39;00m \u001b[38;5;28mself\u001b[39m\u001b[38;5;241m.\u001b[39m_internal_names_set\n\u001b[0;32m   5570\u001b[0m     \u001b[38;5;129;01mand\u001b[39;00m name \u001b[38;5;129;01mnot\u001b[39;00m \u001b[38;5;129;01min\u001b[39;00m \u001b[38;5;28mself\u001b[39m\u001b[38;5;241m.\u001b[39m_metadata\n\u001b[0;32m   5571\u001b[0m     \u001b[38;5;129;01mand\u001b[39;00m name \u001b[38;5;129;01mnot\u001b[39;00m \u001b[38;5;129;01min\u001b[39;00m \u001b[38;5;28mself\u001b[39m\u001b[38;5;241m.\u001b[39m_accessors\n\u001b[0;32m   5572\u001b[0m     \u001b[38;5;129;01mand\u001b[39;00m \u001b[38;5;28mself\u001b[39m\u001b[38;5;241m.\u001b[39m_info_axis\u001b[38;5;241m.\u001b[39m_can_hold_identifiers_and_holds_name(name)\n\u001b[0;32m   5573\u001b[0m ):\n\u001b[0;32m   5574\u001b[0m     \u001b[38;5;28;01mreturn\u001b[39;00m \u001b[38;5;28mself\u001b[39m[name]\n\u001b[1;32m-> 5575\u001b[0m \u001b[38;5;28;01mreturn\u001b[39;00m \u001b[38;5;28;43mobject\u001b[39;49m\u001b[38;5;241;43m.\u001b[39;49m\u001b[38;5;21;43m__getattribute__\u001b[39;49m\u001b[43m(\u001b[49m\u001b[38;5;28;43mself\u001b[39;49m\u001b[43m,\u001b[49m\u001b[43m \u001b[49m\u001b[43mname\u001b[49m\u001b[43m)\u001b[49m\n",
      "\u001b[1;31mAttributeError\u001b[0m: 'Series' object has no attribute 'hour'"
     ]
    }
   ],
   "source": [
    "donnee[donnee['time'].hour > 20]"
   ]
  },
  {
   "cell_type": "markdown",
   "id": "213c5b5e",
   "metadata": {},
   "source": [
    "###  Fusion de deux dataframe en conservant l'index, les valeurs et en interpolant sur les NaN\n",
    "\n",
    "Oui, c'est possible et c'est même très pratique : par exemple quand on récupère des données mesurées et qu'on souhaite y adjoindre une mesure sur un autre pas de temps. Un exemple typique est le cas de mesures dans un bâtiment et de la température extérieure, récupérée par exemple avec <a href=\"https://colab.research.google.com/github/eddes/INSA/blob/main/python/tuto_meteostat.ipynb\"> Meteostat<a>.\n",
    "    \n",
    "L'exemple qui suit traite de ce cas pratique, avec un fichier **meteo.csv** qui contient des mesures à heures fixes et un fixer **mesure.csv** qui contient des mesures toutes les 15 minutes, sans être calé sur une heure \"pile\" (ouvrir le fichier pour mieux saisir)."
   ]
  },
  {
   "cell_type": "code",
   "execution_count": 10,
   "id": "92c45872",
   "metadata": {},
   "outputs": [
    {
     "name": "stdout",
     "output_type": "stream",
     "text": [
      "quoi dedans ?  Index(['temp', 'dwpt', 'rhum', 'prcp', 'snow', 'wdir', 'wspd', 'wpgt', 'pres',\n",
      "       'tsun', 'coco'],\n",
      "      dtype='object')\n"
     ]
    },
    {
     "data": {
      "text/plain": [
       "<matplotlib.legend.Legend at 0x2ae19d33f70>"
      ]
     },
     "execution_count": 10,
     "metadata": {},
     "output_type": "execute_result"
    },
    {
     "data": {
      "image/png": "[encoded data removed]",
      "text/plain": [
       "<Figure size 640x480 with 2 Axes>"
      ]
     },
     "metadata": {},
     "output_type": "display_data"
    }
   ],
   "source": [
    "import matplotlib.pyplot as plt\n",
    "import pandas as pd\n",
    "# lecture du fichier meteo\n",
    "df_meteo = pd.read_csv('./src/meteo.csv', index_col=0, header=\"infer\",delimiter=',')\n",
    "print('quoi dedans ? ', df_meteo.keys())\n",
    "\n",
    "# on nettoie car seule la premiere colonne 'temp' nous interesse et on ne souhaite pas realiser l'interpolation sur toutes les colonnes\n",
    "# 'temp' est la grandeur qui nous interesse, c'est la premiere colonne\n",
    "# on cree donc une liste des colonnes qui vont etre supprimées\n",
    "cols = range(1, len(df_meteo .keys() ))  \n",
    "# c'est parti : noter la syntaxe df.drop()\n",
    "df_meteo.drop(df_meteo .columns[cols], axis=1, inplace=True) \n",
    "\n",
    "# on lit les donnees mesurees\n",
    "df_mesure = pd.read_csv('./src/mesure.csv', index_col=0, header=\"infer\",delimiter=',')\n",
    "\n",
    "# on va fusionner les deux et surtout les reclasser par index, sinon pas d'interpolation\n",
    "df_concat = pd.concat([df_mesure,df_meteo]).sort_index()\n",
    "\n",
    "# puis on interpole lineairement sur les donnees disponibles (il y a plusieurs methodes d'interpolation)\n",
    "df_interp = df_concat.interpolate(method='linear')\n",
    "\n",
    "plt.subplot(121)\n",
    "plt.plot(df_meteo['temp'],'k-o', label='original')\n",
    "plt.legend()\n",
    "plt.subplot(122)\n",
    "plt.plot(df_interp['temp'], 'k--.', label='interpole')\n",
    "plt.legend()\n",
    "\n",
    "# au besoin on sauve pour regarder ce qu'il y a dedans\n",
    "# df_interp.to_csv('./data_interp.csv')\n",
    "# df_concat.to_csv('./data_concat.csv')"
   ]
  },
  {
   "cell_type": "code",
   "execution_count": null,
   "id": "5161e1ce",
   "metadata": {},
   "outputs": [],
   "source": []
  }
 ],
 "metadata": {
  "kernelspec": {
   "display_name": "Python 3 (ipykernel)",
   "language": "python",
   "name": "python3"
  },
  "language_info": {
   "codemirror_mode": {
    "name": "ipython",
    "version": 3
   },
   "file_extension": ".py",
   "mimetype": "text/x-python",
   "name": "python",
   "nbconvert_exporter": "python",
   "pygments_lexer": "ipython3",
   "version": "3.9.12"
  }
 },
 "nbformat": 4,
 "nbformat_minor": 5
}
