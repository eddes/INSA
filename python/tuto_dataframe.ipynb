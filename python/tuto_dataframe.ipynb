{
 "cells": [
  {
   "cell_type": "markdown",
   "id": "478e9cb0",
   "metadata": {},
   "source": [
    "# Traiter la donnée -- Dataframes\n",
    "\n",
    "\n",
    "Pour le réaliser sans installation, depuis un navigateur :\n",
    "<a href=\"https://colab.research.google.com/github/eddes/INSA/blob/main/python/tuto_dataframe.ipynb\"> ça se passe ici<a>\n",
    "\n",
    "\n",
    "Dans de nombreux des domaines, la donnée disponible est fournie dans des fichiers texte, où les valeurs des différentes grandeurs sont séparées par des virgules (vos tableurs favoris exporte parfois en `.csv` - acronyme de _comma separated values_.\n",
    "    \n",
    "Une librairie particulièrement bien adaptée au traitement de tels fichiers est `pandas`. Dans ce qui suit, nous allons apprendre les bases \n",
    "    \n",
    "## Ouverture et affichage de base\n",
    "\n",
    "Ouvrons un des fichiers de température de la ville de Strasbourg."
   ]
  },
  {
   "cell_type": "code",
   "execution_count": 1,
   "id": "7d6bea42",
   "metadata": {
    "scrolled": true
   },
   "outputs": [],
   "source": [
    "import pandas as pd\n",
    "chemin='./src/horaire_Strasbourg_2016.csv'\n",
    "donnee = pd.read_csv(chemin)"
   ]
  },
  {
   "cell_type": "markdown",
   "id": "79a1d015",
   "metadata": {},
   "source": [
    "Pour afficher quelques stats de base :"
   ]
  },
  {
   "cell_type": "code",
   "execution_count": 3,
   "id": "f8d951a2",
   "metadata": {},
   "outputs": [
    {
     "data": {
      "text/html": [
       "<div>\n",
       "<style scoped>\n",
       "    .dataframe tbody tr th:only-of-type {\n",
       "        vertical-align: middle;\n",
       "    }\n",
       "\n",
       "    .dataframe tbody tr th {\n",
       "        vertical-align: top;\n",
       "    }\n",
       "\n",
       "    .dataframe thead th {\n",
       "        text-align: right;\n",
       "    }\n",
       "</style>\n",
       "<table border=\"1\" class=\"dataframe\">\n",
       "  <thead>\n",
       "    <tr style=\"text-align: right;\">\n",
       "      <th></th>\n",
       "      <th>temp</th>\n",
       "    </tr>\n",
       "  </thead>\n",
       "  <tbody>\n",
       "    <tr>\n",
       "      <th>count</th>\n",
       "      <td>8643.000000</td>\n",
       "    </tr>\n",
       "    <tr>\n",
       "      <th>mean</th>\n",
       "      <td>11.077982</td>\n",
       "    </tr>\n",
       "    <tr>\n",
       "      <th>std</th>\n",
       "      <td>7.971636</td>\n",
       "    </tr>\n",
       "    <tr>\n",
       "      <th>min</th>\n",
       "      <td>-6.700000</td>\n",
       "    </tr>\n",
       "    <tr>\n",
       "      <th>25%</th>\n",
       "      <td>5.000000</td>\n",
       "    </tr>\n",
       "    <tr>\n",
       "      <th>50%</th>\n",
       "      <td>10.300000</td>\n",
       "    </tr>\n",
       "    <tr>\n",
       "      <th>75%</th>\n",
       "      <td>16.900000</td>\n",
       "    </tr>\n",
       "    <tr>\n",
       "      <th>max</th>\n",
       "      <td>35.900000</td>\n",
       "    </tr>\n",
       "  </tbody>\n",
       "</table>\n",
       "</div>"
      ],
      "text/plain": [
       "              temp\n",
       "count  8643.000000\n",
       "mean     11.077982\n",
       "std       7.971636\n",
       "min      -6.700000\n",
       "25%       5.000000\n",
       "50%      10.300000\n",
       "75%      16.900000\n",
       "max      35.900000"
      ]
     },
     "execution_count": 3,
     "metadata": {},
     "output_type": "execute_result"
    }
   ],
   "source": [
    "donnee.describe()"
   ]
  },
  {
   "cell_type": "markdown",
   "id": "a66b0fa3",
   "metadata": {},
   "source": [
    "On peut donc lire les min/max ainsi que les percentiles de la série.\n",
    "\n",
    "Ensuite, il est pratique de connaître le nom des données stockées :"
   ]
  },
  {
   "cell_type": "code",
   "execution_count": 4,
   "id": "2734b148",
   "metadata": {},
   "outputs": [
    {
     "data": {
      "text/plain": [
       "Index(['time', 'temp'], dtype='object')"
      ]
     },
     "execution_count": 4,
     "metadata": {},
     "output_type": "execute_result"
    }
   ],
   "source": [
    "donnee.keys()"
   ]
  },
  {
   "cell_type": "markdown",
   "id": "f3cae97d",
   "metadata": {},
   "source": [
    "On constate que le temps et la température sont stockées. On va pouvoir y faire appel simplement par leur nom avec une commande du style :"
   ]
  },
  {
   "cell_type": "code",
   "execution_count": 5,
   "id": "5103ec57",
   "metadata": {},
   "outputs": [
    {
     "data": {
      "text/plain": [
       "0       4.7\n",
       "1       4.4\n",
       "2       4.8\n",
       "3       4.5\n",
       "4       3.8\n",
       "       ... \n",
       "8641   -2.0\n",
       "8642   -1.8\n",
       "8643   -1.9\n",
       "8644   -2.0\n",
       "8645   -2.0\n",
       "Name: temp, Length: 8646, dtype: float64"
      ]
     },
     "execution_count": 5,
     "metadata": {},
     "output_type": "execute_result"
    }
   ],
   "source": [
    "donnee['temp']"
   ]
  },
  {
   "cell_type": "markdown",
   "id": "2f48aa7e",
   "metadata": {},
   "source": [
    "On notera la présence d'un index (colonne de gauche qui est affichée). Cet index est commun à toutes les données stockées, lorsqu'il y en a plusieurs. Il peut aussi être un temps (heure/min/sec j/m/a) ce qui se révèlera pratique par la suite.\n",
    "\n",
    "Si on souhaite uniquement prendre les valeurs :"
   ]
  },
  {
   "cell_type": "code",
   "execution_count": 8,
   "id": "678394f7",
   "metadata": {},
   "outputs": [
    {
     "name": "stdout",
     "output_type": "stream",
     "text": [
      "[ 4.7  4.4  4.8 ... -1.9 -2.  -2. ]\n"
     ]
    }
   ],
   "source": [
    "T = donnee['temp'].values\n",
    "print(T)"
   ]
  },
  {
   "cell_type": "code",
   "execution_count": null,
   "id": "a90aefae",
   "metadata": {},
   "outputs": [],
   "source": []
  }
 ],
 "metadata": {
  "kernelspec": {
   "display_name": "Python 3 (ipykernel)",
   "language": "python",
   "name": "python3"
  },
  "language_info": {
   "codemirror_mode": {
    "name": "ipython",
    "version": 3
   },
   "file_extension": ".py",
   "mimetype": "text/x-python",
   "name": "python",
   "nbconvert_exporter": "python",
   "pygments_lexer": "ipython3",
   "version": "3.9.13"
  }
 },
 "nbformat": 4,
 "nbformat_minor": 5
}
