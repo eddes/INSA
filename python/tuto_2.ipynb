{
 "cells": [
  {
   "cell_type": "markdown",
   "id": "2d942a9f",
   "metadata": {},
   "source": [
    "# Python pour l'Ingénieur.e : Outils pour l'analyse énergétique - Partie \\#2\n",
    "\n",
    "Dans cette partie \\#2, quelques fonctions plus avancées.\n",
    "\n",
    "Pour le réaliser sans installation, depuis un navigateur :\n",
    "<a href=\"https://colab.research.google.com/github/eddes/INSA/blob/main/python/tuto_2.ipynb\"> ça se passe ici<a>\n",
    "\n",
    "## Lire des données\n",
    "Une compétence fondamentale est la capacité de lire des fichiers."
   ]
  },
  {
   "cell_type": "code",
   "execution_count": 8,
   "id": "924ba6f0",
   "metadata": {},
   "outputs": [
    {
     "name": "stdout",
     "output_type": "stream",
     "text": [
      "les temperatures [2.7, 2.9, 3.3, 3.4, 4.0, 4.6, 4.7, 4.0, 3.4, 5.4]\n",
      "type ? <class 'list'>\n"
     ]
    }
   ],
   "source": [
    "# quelques précisions au passage sur l'acces aux fichiers\n",
    "#si le fichier est dans un dossier \"src\" au même niveau que le script \n",
    "#      fichier=\"./src/le_fichier.txt\"\n",
    "#si le fichier a été téléchargé et se trouve dans le même dossier que le script\n",
    "#      fichier=\"./le_fichier.txt\"\n",
    "\n",
    "# on met l'adresse du fichier dans une variable\n",
    "nom=\"./src/temperature_entzheim.txt\"\n",
    "fichier = open(nom, \"r\") # le 'r' correspond à 'read', çàd qu'on ne pourra pas le modifier\n",
    "\n",
    "# l'instruction est un peu compliquee mais : \n",
    "#     - avec \"map\" on répète une opération \"float\", qui consiste à convertir chaque ligne en nombre à virgule\n",
    "#      (sinon python prend ça pour du texte)\n",
    "#     - avec \"list\" on met le tout dans une liste\n",
    "temperatures=list(map(float, fichier))\n",
    "\n",
    "# ensuite voyons ce que ça donne\n",
    "print(\"les 10 premieres temperatures\", temperatures[0:10]) # on y accede par les indices, cool hein?\n",
    "print(\"au fait, c'est quel type de variable ?\", type(temperatures))"
   ]
  },
  {
   "cell_type": "markdown",
   "id": "99dbd28a",
   "metadata": {},
   "source": [
    "<span style=\"color:green\"> *À vous de jouer : tracez le profil des températures avec **matplotlib**.* </span>"
   ]
  },
  {
   "cell_type": "code",
   "execution_count": null,
   "id": "31bfb597",
   "metadata": {},
   "outputs": [],
   "source": [
    "import matplotlib.pyplot as plt\n",
    "# la suite..."
   ]
  },
  {
   "cell_type": "markdown",
   "id": "730a8352",
   "metadata": {},
   "source": [
    "Il est également possible d'utiliser directement la librairie **pandas**, que l'on explorera plus loin. Je vous invite à ouvrir le fichier \\*.csv de l'exemple qui suit afin d'observer le résultat."
   ]
  },
  {
   "cell_type": "code",
   "execution_count": 15,
   "id": "d70a3509",
   "metadata": {},
   "outputs": [
    {
     "data": {
      "text/plain": [
       "<AxesSubplot:>"
      ]
     },
     "execution_count": 15,
     "metadata": {},
     "output_type": "execute_result"
    },
    {
     "data": {
      "image/png": "[encoded data removed]",
      "text/plain": [
       "<Figure size 432x288 with 1 Axes>"
      ]
     },
     "metadata": {
      "needs_background": "light"
     },
     "output_type": "display_data"
    }
   ],
   "source": [
    "import pandas as pd\n",
    "fichier=\"./src/horaire_Strasbourg_2016.csv\"\n",
    "#on va lire le fichier csv \n",
    "df = pd.read_csv(fichier) # df pour DataFrame (\"cadre de données\")\n",
    "#on le trace avec une commande interne à pandas\n",
    "df.plot()"
   ]
  },
  {
   "cell_type": "markdown",
   "id": "f9615a51",
   "metadata": {},
   "source": [
    "On constate que le label de la courbe correspond à l'intitulé de la colonne du \\*.csv.\n",
    "\n",
    "<span style=\"color:green\"> *Faites une boucle qui va lire les fichiers météorologiques présents dans le dossier \"src\" de ce site. Le chemin pour y accéder serait par exemple \"../src/horaire_Strasbourg_2021.csv\" et profitez-en pour tracer les séries temporelles de température avec un bon vieux **df.plot**.* </span>"
   ]
  },
  {
   "cell_type": "code",
   "execution_count": 1,
   "id": "b3a01665",
   "metadata": {},
   "outputs": [],
   "source": [
    "import matplotlib.pyplot as plt\n",
    "import os\n",
    "# un indice\n",
    "i = 1\n",
    "chemin=\"../src/horaire_Strasbourg_201\"+str(i)+\".csv\" # on convertit l'entier i en chaine de caracteres (=string)"
   ]
  },
  {
   "cell_type": "markdown",
   "id": "25cb303e",
   "metadata": {},
   "source": [
    "## Statistiques de base\n",
    "Une fois que la lecture des données est faite, il est souvent utile d'être en mesure d'en dire quelque chose, à partir de statistiques simples.\n",
    "\n",
    "### Moyenne et écart-type\n",
    "\n",
    "La moyenne et l'écart-type (un rappel visuel \n",
    "<a href=\"https://fr.wikipedia.org/wiki/%C3%89cart_type#/media/Fichier:Comparison_standard_deviations.svg\"> sur vikipedia<a>) sont directement calculables avec **numpy**, que l'on commence à connaître.\n",
    "\n",
    "L'utilité de la moyenne est généralement bien connue. Pour l'écart-type, son utilité consiste à évaluer la dispersion d'une distribution (par exemple des notes de partiel, des températures, des angles d'incidence de vent...). Lorsque la distribution est une gaussienne ou suit une loi normale (<a href=\"https://fr.wikipedia.org/w/index.php?title=Fichier:Normal_Distribution_PDF.svg&lang=fr\"> = ressemble à ça <a>), on sait que 95% des valeurs sont comprises entre la moyenne $\\mu$ $\\pm$ 2 écarts-types $\\sigma$ (et plus de 99% des valeurs seront entre $\\mu \\pm 3 \\sigma$)."
   ]
  },
  {
   "cell_type": "code",
   "execution_count": 12,
   "id": "98eaf912",
   "metadata": {},
   "outputs": [
    {
     "name": "stdout",
     "output_type": "stream",
     "text": [
      "[0.28417793 0.80340618 0.96867509 0.88506925 0.56891945 0.67987245\n",
      " 0.67607459 0.35933727 0.64105875 0.15609615]\n",
      "Moyenne, écart type :\n",
      "0.6022687108639675 0.25060724978344345\n",
      "0.602 0.251\n"
     ]
    }
   ],
   "source": [
    "import numpy as np\n",
    "# on choisit 10 nombres au hasard entre 0 et 1\n",
    "vecteur = np.random.rand(10) #comme ca on saura utiliser \"random\"\n",
    "print(vecteur)\n",
    "# calculons la moyenne et l'écart type\n",
    "moyenne, ecarttype = np.mean(vecteur), np.std(vecteur)\n",
    "print(\"Moyenne, écart type :\")\n",
    "print(moyenne, ecarttype)\n",
    "\n",
    "# plus chic, avec moins de décimales\n",
    "#print(round(moyenne,3), round(ecarttype,3)) "
   ]
  },
  {
   "cell_type": "markdown",
   "id": "d740efe9",
   "metadata": {},
   "source": [
    "<span style=\"color:green\"> *À vous de jouer - calculez la moyenne et l'écart-type des températures à Entzheim avec le fichier `./src/temperatures_entzheim.txt`.* </span> "
   ]
  },
  {
   "cell_type": "code",
   "execution_count": null,
   "id": "0b47f405",
   "metadata": {},
   "outputs": [],
   "source": [
    "import numpy as np\n",
    "# ..."
   ]
  },
  {
   "cell_type": "markdown",
   "id": "55cc57a5",
   "metadata": {},
   "source": [
    "### Boîte à moustaches\n",
    "L'utilité du diagramme \"boîte à moustaches\" est de fournir un aperçu des valeurs fondamentales d'une distribution : la moyenne, les extrema (min/max) et les quartiles ou déciles ou 5e et 95e centiles (<a href=\"https://fr.wikipedia.org/wiki/Bo%C3%AEte_%C3%A0_moustaches#/media/Fichier:Michelsonmorley-boxplot.svg\">un exemple<a>)."
   ]
  },
  {
   "cell_type": "code",
   "execution_count": 13,
   "id": "ff7d7499",
   "metadata": {},
   "outputs": [
    {
     "data": {
      "text/plain": [
       "{'whiskers': [<matplotlib.lines.Line2D at 0x2bc9b653520>,\n",
       "  <matplotlib.lines.Line2D at 0x2bc9b6537f0>],\n",
       " 'caps': [<matplotlib.lines.Line2D at 0x2bc9b653ac0>,\n",
       "  <matplotlib.lines.Line2D at 0x2bc9b653d90>],\n",
       " 'boxes': [<matplotlib.lines.Line2D at 0x2bc9b653250>],\n",
       " 'medians': [<matplotlib.lines.Line2D at 0x2bc9b6630a0>],\n",
       " 'fliers': [<matplotlib.lines.Line2D at 0x2bc9b663370>],\n",
       " 'means': []}"
      ]
     },
     "execution_count": 13,
     "metadata": {},
     "output_type": "execute_result"
    },
    {
     "data": {
      "image/png": "[encoded data removed]",
      "text/plain": [
       "<Figure size 640x480 with 1 Axes>"
      ]
     },
     "metadata": {},
     "output_type": "display_data"
    }
   ],
   "source": [
    "import matplotlib.pyplot as plt\n",
    "T= np.random.rand(100) # on génère une distribution aléatoire\n",
    "plt.boxplot(T) # on trace la boite a moustaches"
   ]
  },
  {
   "cell_type": "markdown",
   "id": "a80a60e8",
   "metadata": {},
   "source": [
    "<span style=\"color:green\"> *À vous de jouer : tracez la boîte à moustache pour l'année météorologique de votre choix.* </span>"
   ]
  },
  {
   "cell_type": "code",
   "execution_count": 3,
   "id": "afb419cc",
   "metadata": {},
   "outputs": [
    {
     "name": "stderr",
     "output_type": "stream",
     "text": [
      "Matplotlib is building the font cache; this may take a moment.\n"
     ]
    }
   ],
   "source": [
    "# un petit coup de main comme d'hab\n",
    "import matplotlib.pyplot as plt\n",
    "fichier = './src/temperature_entzheim.csv'"
   ]
  },
  {
   "cell_type": "markdown",
   "id": "affab620",
   "metadata": {},
   "source": [
    "### Monotone et distribution\n",
    "Une autre représentation utile est la distribution des valeurs : elle permet de ocnnaître le nombre d'occurrence d'une note ou d'une température par exemple. Dans sa version cumulée, elle donne le pourcentage du temps au-dessus/en-dessous d'un certain seuil."
   ]
  },
  {
   "cell_type": "code",
   "execution_count": 19,
   "id": "b1301c37",
   "metadata": {},
   "outputs": [
    {
     "data": {
      "text/plain": [
       "Text(0, 0.5, \"Nombre d'heures/classe de temperature\")"
      ]
     },
     "execution_count": 19,
     "metadata": {},
     "output_type": "execute_result"
    },
    {
     "data": {
      "image/png": "[encoded data removed]",
      "text/plain": [
       "<Figure size 432x288 with 1 Axes>"
      ]
     },
     "metadata": {
      "needs_background": "light"
     },
     "output_type": "display_data"
    }
   ],
   "source": [
    "# on lit le fichier et on le traite pour avoir des nombres a virgules\n",
    "nom=\"./src/temperature_entzheim.txt\"\n",
    "fichier = open(nom, \"r\")\n",
    "temperatures=list(map(float, fichier))\n",
    "\n",
    "# ensuite on trace un histogramme\n",
    "plt.hist(temperatures)\n",
    "plt.xlabel(\"Temperature\")\n",
    "plt.ylabel(\"Nombre d'heures/classe de temperature\")"
   ]
  },
  {
   "cell_type": "markdown",
   "id": "d1a41f8d",
   "metadata": {},
   "source": [
    "En l'état ce n'est pas exactement ce qu'il y a de plus exploitable : on aimerait par exemple avoir des classes de température de 1°C. On rajoute"
   ]
  },
  {
   "cell_type": "code",
   "execution_count": 4,
   "id": "cb061913",
   "metadata": {},
   "outputs": [
    {
     "ename": "NameError",
     "evalue": "name 'temperatures' is not defined",
     "output_type": "error",
     "traceback": [
      "\u001b[0;31m---------------------------------------------------------------------------\u001b[0m",
      "\u001b[0;31mNameError\u001b[0m                                 Traceback (most recent call last)",
      "\u001b[0;32m<ipython-input-4-bfdb975713be>\u001b[0m in \u001b[0;36m<module>\u001b[0;34m\u001b[0m\n\u001b[1;32m      1\u001b[0m \u001b[0mclasses_temperature\u001b[0m \u001b[0;34m=\u001b[0m\u001b[0mrange\u001b[0m \u001b[0;34m(\u001b[0m \u001b[0;34m-\u001b[0m\u001b[0;36m10\u001b[0m \u001b[0;34m,\u001b[0m\u001b[0;36m10\u001b[0m\u001b[0;34m)\u001b[0m \u001b[0;31m#de -10 a 10 degres\u001b[0m\u001b[0;34m\u001b[0m\u001b[0m\n\u001b[0;32m----> 2\u001b[0;31m \u001b[0mplt\u001b[0m\u001b[0;34m.\u001b[0m\u001b[0mhist\u001b[0m\u001b[0;34m(\u001b[0m\u001b[0mtemperatures\u001b[0m \u001b[0;34m,\u001b[0m \u001b[0mbins\u001b[0m\u001b[0;34m=\u001b[0m \u001b[0mclasses_temperature\u001b[0m \u001b[0;34m)\u001b[0m\u001b[0;34m\u001b[0m\u001b[0m\n\u001b[0m\u001b[1;32m      3\u001b[0m \u001b[0mcounts\u001b[0m\u001b[0;34m,\u001b[0m \u001b[0mbins\u001b[0m\u001b[0;34m,\u001b[0m \u001b[0mbars\u001b[0m \u001b[0;34m=\u001b[0m \u001b[0mplt\u001b[0m\u001b[0;34m.\u001b[0m\u001b[0mhist\u001b[0m\u001b[0;34m(\u001b[0m\u001b[0mtemperatures\u001b[0m \u001b[0;34m,\u001b[0m \u001b[0mbins\u001b[0m\u001b[0;34m=\u001b[0m \u001b[0mclasses_temperature\u001b[0m \u001b[0;34m)\u001b[0m\u001b[0;34m\u001b[0m\u001b[0m\n",
      "\u001b[0;31mNameError\u001b[0m: name 'temperatures' is not defined"
     ]
    }
   ],
   "source": [
    "classes_temperature =range ( -10 ,10) #de -10 a 10 degres\n",
    "plt.hist(temperatures , bins= classes_temperature )\n",
    "\n",
    "# on pourra essayer aussi la ligne suivante\n",
    "counts, bins, bars = plt.hist(temperatures , bins= classes_temperature )\n",
    "print(bins, bars) "
   ]
  },
  {
   "cell_type": "markdown",
   "id": "b789e17f",
   "metadata": {},
   "source": [
    "<span style=\"color:green\"> *À vous de jouer - Utilisez **min(x)** et **max(x)** pour créer l'histogramme allant du minimum au maximum des températures du fichier. On pourra utiliser **int(x)** pour arrondir à la valeur entière. Donnez le nombre d'heures entre 0 et 1 °C.* </span> "
   ]
  },
  {
   "cell_type": "code",
   "execution_count": 25,
   "id": "7c74a335",
   "metadata": {},
   "outputs": [
    {
     "name": "stdout",
     "output_type": "stream",
     "text": [
      "-8.0 36.7\n",
      "la valeur entière (int=integer) 7\n"
     ]
    }
   ],
   "source": [
    "# un coup de main\n",
    "print(min(temperatures), max(temperatures))\n",
    "print(\"la valeur entière (int=integer)\", int(7.3))"
   ]
  },
  {
   "cell_type": "markdown",
   "id": "9fe40e2a",
   "metadata": {},
   "source": [
    "## Dataframes\n",
    "Un outil bien pratique pour traiter/lire/écrire des données : le *dataframe*, ou \"cadre de données\". Nous allons soulever le voile sur une infime fraction de son potentiel.\n",
    "\n",
    "L'utilistaion de *df.describe()* permet d'obtenir diurectement les min/max/quartiles et nombre d'occurrences d'une série."
   ]
  },
  {
   "cell_type": "code",
   "execution_count": 26,
   "id": "04206c59",
   "metadata": {},
   "outputs": [
    {
     "data": {
      "text/html": [
       "<div>\n",
       "<style scoped>\n",
       "    .dataframe tbody tr th:only-of-type {\n",
       "        vertical-align: middle;\n",
       "    }\n",
       "\n",
       "    .dataframe tbody tr th {\n",
       "        vertical-align: top;\n",
       "    }\n",
       "\n",
       "    .dataframe thead th {\n",
       "        text-align: right;\n",
       "    }\n",
       "</style>\n",
       "<table border=\"1\" class=\"dataframe\">\n",
       "  <thead>\n",
       "    <tr style=\"text-align: right;\">\n",
       "      <th></th>\n",
       "      <th>temp</th>\n",
       "    </tr>\n",
       "  </thead>\n",
       "  <tbody>\n",
       "    <tr>\n",
       "      <th>count</th>\n",
       "      <td>8760.000000</td>\n",
       "    </tr>\n",
       "    <tr>\n",
       "      <th>mean</th>\n",
       "      <td>12.115194</td>\n",
       "    </tr>\n",
       "    <tr>\n",
       "      <th>std</th>\n",
       "      <td>8.180426</td>\n",
       "    </tr>\n",
       "    <tr>\n",
       "      <th>min</th>\n",
       "      <td>-7.800000</td>\n",
       "    </tr>\n",
       "    <tr>\n",
       "      <th>25%</th>\n",
       "      <td>5.800000</td>\n",
       "    </tr>\n",
       "    <tr>\n",
       "      <th>50%</th>\n",
       "      <td>11.650000</td>\n",
       "    </tr>\n",
       "    <tr>\n",
       "      <th>75%</th>\n",
       "      <td>17.700000</td>\n",
       "    </tr>\n",
       "    <tr>\n",
       "      <th>max</th>\n",
       "      <td>38.800000</td>\n",
       "    </tr>\n",
       "  </tbody>\n",
       "</table>\n",
       "</div>"
      ],
      "text/plain": [
       "              temp\n",
       "count  8760.000000\n",
       "mean     12.115194\n",
       "std       8.180426\n",
       "min      -7.800000\n",
       "25%       5.800000\n",
       "50%      11.650000\n",
       "75%      17.700000\n",
       "max      38.800000"
      ]
     },
     "execution_count": 26,
     "metadata": {},
     "output_type": "execute_result"
    }
   ],
   "source": [
    "import pandas as pd\n",
    "fichier=\"./src/horaire_Strasbourg_2019.csv\"\n",
    "df=pd.read_csv(fichier)\n",
    "df.describe()"
   ]
  },
  {
   "cell_type": "code",
   "execution_count": null,
   "id": "744c27b0",
   "metadata": {},
   "outputs": [],
   "source": [
    "Encore mieux, on peut aussi tracer directement la boîte à moustache du dataframe (!)"
   ]
  },
  {
   "cell_type": "code",
   "execution_count": 37,
   "id": "cbcbba73",
   "metadata": {},
   "outputs": [
    {
     "data": {
      "text/plain": [
       "(30.0, 40.0)"
      ]
     },
     "execution_count": 37,
     "metadata": {},
     "output_type": "execute_result"
    },
    {
     "data": {
      "image/png": "[encoded data removed]",
      "text/plain": [
       "<Figure size 432x288 with 1 Axes>"
      ]
     },
     "metadata": {
      "needs_background": "light"
     },
     "output_type": "display_data"
    }
   ],
   "source": [
    "df.boxplot() # c'est aussi simple que cela"
   ]
  },
  {
   "cell_type": "code",
   "execution_count": 36,
   "id": "f8e37634",
   "metadata": {},
   "outputs": [
    {
     "data": {
      "text/plain": [
       "(30.0, 40.0)"
      ]
     },
     "execution_count": 36,
     "metadata": {},
     "output_type": "execute_result"
    },
    {
     "data": {
      "image/png": "[encoded data removed]",
      "text/plain": [
       "<Figure size 432x288 with 1 Axes>"
      ]
     },
     "metadata": {
      "needs_background": "light"
     },
     "output_type": "display_data"
    }
   ],
   "source": [
    "#et au besoin j'agrandis pour voir ce qu'il se passe dansles valeurs supérieures\n",
    "df.boxplot()\n",
    "plt.ylim(30,40)"
   ]
  },
  {
   "cell_type": "markdown",
   "id": "0bc40bc5",
   "metadata": {},
   "source": []
  }
 ],
 "metadata": {
  "kernelspec": {
   "display_name": "Python 3 (ipykernel)",
   "language": "python",
   "name": "python3"
  },
  "language_info": {
   "codemirror_mode": {
    "name": "ipython",
    "version": 3
   },
   "file_extension": ".py",
   "mimetype": "text/x-python",
   "name": "python",
   "nbconvert_exporter": "python",
   "pygments_lexer": "ipython3",
   "version": "3.9.13"
  }
 },
 "nbformat": 4,
 "nbformat_minor": 5
}
