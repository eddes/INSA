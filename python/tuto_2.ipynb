{
 "cells": [
  {
   "cell_type": "markdown",
   "id": "2d942a9f",
   "metadata": {},
   "source": [
    "# Outils pour l'analyse énergétique - Partie \\#2\n",
    "\n",
    "Dans cette partie \\#2, quelques fonctions plus avancées.\n",
    "\n",
    "Pour le réaliser sans installation, depuis un navigateur :\n",
    "<a href=\"https://colab.research.google.com/github/eddes/INSA/blob/main/python/tuto_2.ipynb\"> ça se passe ici<a>\n",
    "\n",
    "## Lire des données\n",
    "Une compétence fondamentale est la capacité de lire des fichiers."
   ]
  },
  {
   "cell_type": "code",
   "execution_count": null,
   "id": "924ba6f0",
   "metadata": {},
   "outputs": [],
   "source": [
    "import os\n",
    "\n",
    "#si le fichier est dans un dossier \"src\" au même niveau que le script \n",
    "# fichier=\"../src/Entzheim2021.csv\"\n",
    "#si le fichier a été téléchargé et se trouve dans le même dossier que le script\n",
    "fichier=\"./Entzheim2021.csv\"\n",
    "\n",
    "with f : \n",
    "    "
   ]
  },
  {
   "cell_type": "markdown",
   "id": "730a8352",
   "metadata": {},
   "source": [
    "Il est également possible d'utiliser directement la librairie **pandas**."
   ]
  },
  {
   "cell_type": "code",
   "execution_count": null,
   "id": "d70a3509",
   "metadata": {},
   "outputs": [],
   "source": [
    "import pandas as pd\n",
    "fichier=\"../src/Entzheim2021.csv\"\n",
    "df = pd.read_csv(fichier)"
   ]
  },
  {
   "cell_type": "markdown",
   "id": "f9615a51",
   "metadata": {},
   "source": [
    "<span style=\"color:green\"> Faites une boucle qui va lire les fichiers météorologiques présents dans le dossier \"src\" de ce site. Le chemin pour y accéder serait par exemple \"../src/Entzheim2021.csv\" et profitez-en pour tracer les séries temporelles de température avec un bon vieux *plt.plot()* </span>"
   ]
  },
  {
   "cell_type": "code",
   "execution_count": 1,
   "id": "b3a01665",
   "metadata": {},
   "outputs": [],
   "source": [
    "import matplotlib.pyplot as plt\n",
    "import os\n",
    "# un indice\n",
    "i = 1\n",
    "chemin=\"../src/Enthzeim_202\"+str(i)+\".csv\" # on convertit l'entier i en chaine de caracteres (=string)"
   ]
  },
  {
   "cell_type": "markdown",
   "id": "25cb303e",
   "metadata": {},
   "source": [
    "## Statistiques de base\n",
    "Une fois que la lecture des données est faite, il est souvent utile d'être en mesure d'en dire quelque chose, à partir de statistiques simples.\n",
    "\n",
    "### Moyenne et écart-type\n",
    "\n",
    "La moyenne et l'écart-type (un rappel visuel \n",
    "<a href=\"https://fr.wikipedia.org/wiki/%C3%89cart_type#/media/Fichier:Comparison_standard_deviations.svg\"> sur vikipedia<a>) sont directement calculables avec **numpy**, que l'on commence à connaître.\n",
    "\n",
    "L'utilité de la moyenne est généralement bien connue. Pour l'écart-type, son utilité consiste à évaluer la dispersion d'une distribution (par exemple des notes de partiel, des températures, des angles d'incidence de vent...). Lorsque la distribution est une gaussienne ou suit une loi normale (<a href=\"https://fr.wikipedia.org/w/index.php?title=Fichier:Normal_Distribution_PDF.svg&lang=fr\"> = ressemble à ça <a>), on sait que 95% des valeurs sont comprises entre la moyenne $\\mu$ $\\pm$ 2 écarts-types $\\sigma$ (et plus de 99% des valeurs seront entre $\\mu \\pm 3 \\sigma$)."
   ]
  },
  {
   "cell_type": "code",
   "execution_count": 12,
   "id": "98eaf912",
   "metadata": {},
   "outputs": [
    {
     "name": "stdout",
     "output_type": "stream",
     "text": [
      "[0.28417793 0.80340618 0.96867509 0.88506925 0.56891945 0.67987245\n",
      " 0.67607459 0.35933727 0.64105875 0.15609615]\n",
      "Moyenne, écart type :\n",
      "0.6022687108639675 0.25060724978344345\n",
      "0.602 0.251\n"
     ]
    }
   ],
   "source": [
    "import numpy as np\n",
    "# on choisit 10 nombres au hasard entre 0 et 1\n",
    "vecteur = np.random.rand(10) #comme ca on saura utiliser \"random\"\n",
    "print(vecteur)\n",
    "# calculons la moyenne et l'écart type\n",
    "moyenne, ecarttype = np.mean(vecteur), np.std(vecteur)\n",
    "print(\"Moyenne, écart type :\")\n",
    "print(moyenne, ecarttype)\n",
    "\n",
    "# plus chic, avec moins de décimales\n",
    "#print(round(moyenne,3), round(ecarttype,3)) "
   ]
  },
  {
   "cell_type": "markdown",
   "id": "d740efe9",
   "metadata": {},
   "source": [
    "<span style=\"color:green\"> *À vous de jouer - calculez la moyenne et l'écart-type des températures de l'année 2021 à Entzheim.* </span> "
   ]
  },
  {
   "cell_type": "code",
   "execution_count": null,
   "id": "0b47f405",
   "metadata": {},
   "outputs": [],
   "source": [
    "import numpy as np"
   ]
  },
  {
   "cell_type": "markdown",
   "id": "55cc57a5",
   "metadata": {},
   "source": [
    "### Boîte à moustaches\n",
    "L'utilité du diagramme \"boîte à moustaches\" est de fournir un aperçu des valeurs fondamentales d'une distribution : la moyenne, les extrema (min/max) et les quartiles ou déciles ou 5e et 95e centiles (<a href=\"https://fr.wikipedia.org/wiki/Bo%C3%AEte_%C3%A0_moustaches#/media/Fichier:Michelsonmorley-boxplot.svg\"> un exemple <a>)."
   ]
  },
  {
   "cell_type": "code",
   "execution_count": 13,
   "id": "ff7d7499",
   "metadata": {},
   "outputs": [
    {
     "data": {
      "text/plain": [
       "{'whiskers': [<matplotlib.lines.Line2D at 0x2bc9b653520>,\n",
       "  <matplotlib.lines.Line2D at 0x2bc9b6537f0>],\n",
       " 'caps': [<matplotlib.lines.Line2D at 0x2bc9b653ac0>,\n",
       "  <matplotlib.lines.Line2D at 0x2bc9b653d90>],\n",
       " 'boxes': [<matplotlib.lines.Line2D at 0x2bc9b653250>],\n",
       " 'medians': [<matplotlib.lines.Line2D at 0x2bc9b6630a0>],\n",
       " 'fliers': [<matplotlib.lines.Line2D at 0x2bc9b663370>],\n",
       " 'means': []}"
      ]
     },
     "execution_count": 13,
     "metadata": {},
     "output_type": "execute_result"
    },
    {
     "data": {
      "image/png": "[encoded data removed]",
      "text/plain": [
       "<Figure size 640x480 with 1 Axes>"
      ]
     },
     "metadata": {},
     "output_type": "display_data"
    }
   ],
   "source": [
    "import matplotlib.pyplot as plt\n",
    "T= np.random.rand(100) # on génère une distribution aléatoire\n",
    "plt.boxplot(T) # on trace la boite a moustaches"
   ]
  },
  {
   "cell_type": "markdown",
   "id": "a80a60e8",
   "metadata": {},
   "source": [
    "<span style=\"color:green\"> *À vous de jouer : tracez la boîte à moustache pour l'année météorologique de votre choix.* </span>"
   ]
  },
  {
   "cell_type": "code",
   "execution_count": 14,
   "id": "afb419cc",
   "metadata": {},
   "outputs": [],
   "source": [
    "# un petit coup de main comme d'hab\n",
    "import matplotlib.pyplot as plt\n",
    "fichier = './Entzheim.csv'"
   ]
  },
  {
   "cell_type": "markdown",
   "id": "affab620",
   "metadata": {},
   "source": [
    "### Monotone et distribution"
   ]
  },
  {
   "cell_type": "code",
   "execution_count": null,
   "id": "b1301c37",
   "metadata": {},
   "outputs": [],
   "source": [
    "import numpy as np"
   ]
  },
  {
   "cell_type": "code",
   "execution_count": null,
   "id": "6b568bf8",
   "metadata": {},
   "outputs": [],
   "source": []
  },
  {
   "cell_type": "code",
   "execution_count": null,
   "id": "cb061913",
   "metadata": {},
   "outputs": [],
   "source": []
  },
  {
   "cell_type": "markdown",
   "id": "9fe40e2a",
   "metadata": {},
   "source": [
    "## Dataframes\n",
    "Un outil bien pratique pour traiter/lire/écrire des données : le *dataframe*, ou \"cadre de données\". Nous allons soulever le voile sur une infime fraction de son potentiel."
   ]
  },
  {
   "cell_type": "code",
   "execution_count": null,
   "id": "04206c59",
   "metadata": {},
   "outputs": [],
   "source": [
    "import pandas as pd\n",
    "fichier=\"../src/Entzheim_2021.csv\"\n",
    "df=pd.read_csv(fichier)\n",
    "df.describe"
   ]
  }
 ],
 "metadata": {
  "kernelspec": {
   "display_name": "Python 3 (ipykernel)",
   "language": "python",
   "name": "python3"
  },
  "language_info": {
   "codemirror_mode": {
    "name": "ipython",
    "version": 3
   },
   "file_extension": ".py",
   "mimetype": "text/x-python",
   "name": "python",
   "nbconvert_exporter": "python",
   "pygments_lexer": "ipython3",
   "version": "3.9.13"
  }
 },
 "nbformat": 4,
 "nbformat_minor": 5
}
