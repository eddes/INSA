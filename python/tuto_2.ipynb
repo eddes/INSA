{
 "cells": [
  {
   "cell_type": "markdown",
   "id": "2d942a9f",
   "metadata": {},
   "source": [
    "# Outils pour l'analyse énergétique - Partie \\#2\n",
    "\n",
    "Dans cette partie \\#2, quelques fonctions plus avancées.\n",
    "\n",
    "Pour le réaliser sans installation, depuis un navigateur :\n",
    "<a href=\"https://colab.research.google.com/github/eddes/INSA/blob/main/python/tuto_2.ipynb\"> ça se passe ici<a>\n",
    "\n",
    "## Lire des données\n",
    "Une compétence fondamentale est la capacité de lire des fichiers."
   ]
  },
  {
   "cell_type": "code",
   "execution_count": null,
   "id": "924ba6f0",
   "metadata": {},
   "outputs": [],
   "source": [
    "import os\n",
    "with f : \n",
    "    "
   ]
  },
  {
   "cell_type": "markdown",
   "id": "dfff6b62",
   "metadata": {},
   "source": [
    "Il est également possible d'utiliser directement la librairie **pandas**."
   ]
  },
  {
   "cell_type": "code",
   "execution_count": null,
   "id": "d70a3509",
   "metadata": {},
   "outputs": [],
   "source": [
    "import pandas as pd\n",
    "fichier=\"../src/Entzheim2021.csv\"\n",
    "df = pd.read_csv(fichier)"
   ]
  },
  {
   "cell_type": "markdown",
   "id": "3f90992a",
   "metadata": {},
   "source": [
    "Faites une boucle qui va lire les fichiers météorologiques présents dans le dossier \"src\" de ce site. Le chemin pour y accéder serait par exemple \"../src/Entzheim2021.csv\" et profitez-en pour tracer les séries temporelles de température avec un bon vieux *plt.plot()*"
   ]
  },
  {
   "cell_type": "code",
   "execution_count": 1,
   "id": "29e55d65",
   "metadata": {},
   "outputs": [],
   "source": [
    "import matplotlib.pyplot as plt\n",
    "import os\n",
    "# un indice\n",
    "i = 1\n",
    "chemin=\"../src/Enthzeim_202\"+str(i)+\".csv\" # on convertit l'entier i en chaine de caracteres (=string)"
   ]
  },
  {
   "cell_type": "markdown",
   "id": "1d2a85c6",
   "metadata": {},
   "source": [
    "## Statistiques de base\n",
    "Une fois que la lecture des données est faite, il est souvent utile d'être en mesure d'en dire quelque chose, à partir de statistiques simples.\n",
    "\n",
    "### Moyenne et écart-type\n",
    "\n",
    "La moyenne et l'écart-type (un rappel visuel \n",
    "<a href=\"https://fr.wikipedia.org/wiki/%C3%89cart_type#/media/Fichier:Comparison_standard_deviations.svg\"> sur vikipedia<a>) sont directement calculables avec **numpy**, que l'on commence à connaître.\n"
   ]
  },
  {
   "cell_type": "code",
   "execution_count": 12,
   "id": "f836c055",
   "metadata": {},
   "outputs": [
    {
     "name": "stdout",
     "output_type": "stream",
     "text": [
      "[0.28417793 0.80340618 0.96867509 0.88506925 0.56891945 0.67987245\n",
      " 0.67607459 0.35933727 0.64105875 0.15609615]\n",
      "Moyenne, écart type :\n",
      "0.6022687108639675 0.25060724978344345\n",
      "0.602 0.251\n"
     ]
    }
   ],
   "source": [
    "import numpy as np\n",
    "# on choisit 10 nombres au hasard entre 0 et 1\n",
    "vecteur = np.random.rand(10) #comme ca on saura utiliser \"random\"\n",
    "print(vecteur)\n",
    "# calculons la moyenne et l'écart type\n",
    "moyenne, ecarttype = np.mean(vecteur), np.std(vecteur)\n",
    "print(\"Moyenne, écart type :\")\n",
    "print(moyenne, ecarttype)\n",
    "\n",
    "# plus chic, avec moins de décimales\n",
    "#print(round(moyenne,3), round(ecarttype,3)) "
   ]
  },
  {
   "cell_type": "markdown",
   "id": "79607c75",
   "metadata": {},
   "source": [
    "<span style=\"color:green\"> *À vous de jouer - calculez la moyenne et l'écart-type des températures de l'année 2021 à Entzheim.* </span> "
   ]
  },
  {
   "cell_type": "code",
   "execution_count": null,
   "id": "188d9bab",
   "metadata": {},
   "outputs": [],
   "source": [
    "import numpy as np"
   ]
  },
  {
   "cell_type": "markdown",
   "id": "ad0c1e5b",
   "metadata": {},
   "source": [
    "### Boîte à moustaches\n"
   ]
  },
  {
   "cell_type": "code",
   "execution_count": null,
   "id": "2897d2cc",
   "metadata": {},
   "outputs": [],
   "source": [
    "import numpy as np\n"
   ]
  },
  {
   "cell_type": "code",
   "execution_count": null,
   "id": "01f05409",
   "metadata": {},
   "outputs": [],
   "source": []
  },
  {
   "cell_type": "code",
   "execution_count": null,
   "id": "40bfa014",
   "metadata": {},
   "outputs": [],
   "source": []
  }
 ],
 "metadata": {
  "kernelspec": {
   "display_name": "Python 3 (ipykernel)",
   "language": "python",
   "name": "python3"
  },
  "language_info": {
   "codemirror_mode": {
    "name": "ipython",
    "version": 3
   },
   "file_extension": ".py",
   "mimetype": "text/x-python",
   "name": "python",
   "nbconvert_exporter": "python",
   "pygments_lexer": "ipython3",
   "version": "3.9.13"
  }
 },
 "nbformat": 4,
 "nbformat_minor": 5
}
