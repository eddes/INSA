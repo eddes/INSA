{
 "cells": [
  {
   "cell_type": "markdown",
   "id": "8ac223b8",
   "metadata": {},
   "source": [
    "# Résolution d'équation\n",
    "\n",
    "Pour le réaliser sans installation, depuis un navigateur :\n",
    "<a href=\"https://colab.research.google.com/github/eddes/INSA/blob/main/python/tuto_solve_equation.ipynb\"> ça se passe ici<a>\n",
    "\n",
    "On ne distingue pas le cas des équations linéaires/non-linéaires, car la méthode utilisée est construite pour résoudre les deux types (il faut creuser la doc de scipy pour découvrir qu'il s'agit d'un algorithme hybride de Powell). Ceci est discutable, cependant le propos ici est de réussir à se débrouiller pour obtenir le résultat souhaité, sans forcément chercher l'optimum de vitesse : en effet pour les systèmes linéaires, la convergence est sans doute plus rapide avec l'algorithme TDMA.\n",
    "\n",
    "Ceci étant dit : en avant Guingamp !\n",
    "    \n",
    "## Une équation, une inconnue\n",
    "    \n",
    "### Principe\n",
    "\n",
    "Prenons l'exemple de la fonction $x^3 +2 x = 2$. La méthode consiste à toujours mettre l'équation que vous cherchez sous la forme de $f(x)=0$, car les algorithmes de résolution numérique sont conçus pour trouver le \"zéro\" d'une fonction.\n",
    "    \n",
    "Ainsi on va résoudre $x^3 +2 x - 2 = 0$, en créant une fonction dédiée :"
   ]
  },
  {
   "cell_type": "code",
   "execution_count": 27,
   "id": "f4701329",
   "metadata": {},
   "outputs": [
    {
     "name": "stdout",
     "output_type": "stream",
     "text": [
      "x_solution vaut ... [0.770917]\n"
     ]
    }
   ],
   "source": [
    "# l'import de la librairie qui fait ce genre de choses\n",
    "from scipy.optimize import  fsolve\n",
    "\n",
    "# on définit la fonction à intégrer\n",
    "def fc_a_resoudre(x):\n",
    "    return x**3 + 2*x - 2\n",
    "\n",
    "# on doit donner un point de depart pour la recherche de solution\n",
    "x_initialisation = 1.5\n",
    "# et on resout, sans arguments pour la fonction (voir la suite)\n",
    "x_solution = fsolve(fc_a_resoudre, x_initialisation, args=())\n",
    "print(\"x_solution vaut ...\", x_solution)"
   ]
  },
  {
   "cell_type": "markdown",
   "id": "d47434f8",
   "metadata": {},
   "source": [
    "Faites la vérification en utilisant `fc_a_resoudre(0.77)` : on devrait trouver une valeur proche de zéro.\n",
    "\n",
    "Il est également possible (et parfois pratique) d'ajouter des paramètres ou \"arguments\" pour la fonction à résoudre, par exemple si $x^3 + kx = 2$ avec $k$ connu, défini par l'utilisateur :"
   ]
  },
  {
   "cell_type": "code",
   "execution_count": 29,
   "id": "8b908c09",
   "metadata": {},
   "outputs": [
    {
     "name": "stdout",
     "output_type": "stream",
     "text": [
      "x_solution vaut ... [0.06665679]\n"
     ]
    }
   ],
   "source": [
    "# l'import de la librairie qui fait ce genre de choses\n",
    "from scipy.optimize import  fsolve\n",
    "\n",
    "# on définit la fonction à intégrer, meme principe \n",
    "def fc_a_resoudre(x, param):\n",
    "    return x**3 + param*x - 2\n",
    "\n",
    "# on doit donner un point de depart pour la recherche de solution\n",
    "x_initialisation = 1.5\n",
    "\n",
    "#supposons que le parametre prenne la valeur suivante \n",
    "param=30\n",
    "\n",
    "# et on resout, sans arguments\n",
    "x_solution = fsolve(fc_a_resoudre, x_initialisation, args=(param))\n",
    "print(\"x_solution vaut ...\", x_solution)"
   ]
  },
  {
   "cell_type": "markdown",
   "id": "792a5ff2",
   "metadata": {},
   "source": [
    "Remarque : Les paramètres à résoudre peuvent être nombreux, il suffit de les ajouter dans  `args=(param1, param2, ...)`."
   ]
  },
  {
   "cell_type": "markdown",
   "id": "43b32c79",
   "metadata": {},
   "source": [
    "\n",
    "### Application - Pression de vapeur saturante \n",
    "\n",
    "<span style=\"color:green\"> *À vous de jouer : la pression de vapeur saturante en fonction de la température est donnée dans la fonction ci-dessous. Trouvez la température pour laquelle $p_{vs} = 2400$ [Pa].* </span>"
   ]
  },
  {
   "cell_type": "code",
   "execution_count": 16,
   "id": "8c6c9d5a",
   "metadata": {},
   "outputs": [],
   "source": [
    "# la fonction de pression de vapeur saturante\n",
    "def pvs(T):\n",
    "    a,b=0.07252,0.0002881\n",
    "    c,d=0.00000079,611\n",
    "    return d * np.exp(a*T -b*np.power(T,2) + c*np.power(T,3))\n",
    "\n",
    "# il faut definir une fonction telle que \"2400- pvs(T) renvoie  0\"..."
   ]
  },
  {
   "cell_type": "markdown",
   "id": "496e5eb3",
   "metadata": {},
   "source": [
    "## Systèmes d 'équations\n",
    "\n",
    "La résolution fonctionne exactement sur le même principe, à la différence qu'on va fournir un vecteur de \"zéros\" à résoudre.\n",
    "\n",
    "### Principe\n",
    "\n",
    "Supposons qu'on souhaite résoudre le système de deux équations à deux inconnues $x_a,x_b$ suivant :\n",
    "$$\n",
    "\\begin{eqnarray}\n",
    "x_a^3 + k x_b = 2 \\\\\n",
    "x_b^2 - k x_a = -6 \n",
    "\\end{eqnarray}\n",
    "$$"
   ]
  },
  {
   "cell_type": "code",
   "execution_count": 30,
   "id": "363f46b4-0ab9-4c8f-a2fe-a1afa5e262b7",
   "metadata": {
    "scrolled": true
   },
   "outputs": [
    {
     "name": "stdout",
     "output_type": "stream",
     "text": [
      "x_solution vaut ... [ 1.73095309 -1.59313961]\n"
     ]
    }
   ],
   "source": [
    "# on définit la fonction à intégrer, meme principe \n",
    "def fc_a_resoudre(x, param):\n",
    "    xa,xb= x\n",
    "    zero1 = xa**3 + param*xb - 2\n",
    "    zero2 = -xb**2 - param*xa + 6\n",
    "    \n",
    "    return np.array([zero1, zero2])\n",
    "\n",
    "# on doit donner un point de depart pour la recherche de solution\n",
    "x_initialisation = [1.5, 0]\n",
    "\n",
    "#supposons que le parametre prenne la valeur suivante \n",
    "param=2\n",
    "\n",
    "# et on resout, sans arguments\n",
    "x_solution = fsolve(fc_a_resoudre, x_initialisation, args=(param))\n",
    "print(\"x_solution vaut ...\", x_solution)"
   ]
  },
  {
   "cell_type": "markdown",
   "id": "ab0d9594-052a-4057-90e3-840dca281ab7",
   "metadata": {},
   "source": [
    "### Application - Production d'oxyde d'azote lors de la combustion de méthane\n",
    "\n",
    "On souhaite résoudre l'équation de combustion suivante afin de connaître la quantité de NO produit lors de la combustion du méthane. La quantité d'oxydes d'azote produite dépend de la <a href=\"https://fr.wikipedia.org/wiki/Loi_d%27action_de_masse\"> loi d'action de masse<a>. La constante d'équilibre $K_\\text{NO}$ étant connue, i s'agit d'équilibrer la stoechiométrie de l'équation (simplifiée) suivante, çàd de trouver les valeurs des coefficients $a, b, c, d, f$, avec $e=0.1$ l'excès d'air :\n",
    "$$\n",
    "\\begin{eqnarray}\n",
    "\tCH_4 + 2 ( 1 + e ) ( O_2 + 3.76 N_2 )\\rightarrow a CO_2 + b H_2O + c O_2 + d NO + f N_2  \\\\\n",
    "\t\\frac{1}{2} N_2 + \\frac{1}{2}  O_2  \\rightleftarrows  NO \\\\\n",
    "\ta - 1 = 0  \\\\\n",
    "\t2a + b + 2c + d - 4(1+e) = 0\\\\\n",
    "\t2b -4 = 0  \\\\\n",
    "\td  +2f - 4(1+e) = 0\\\\\n",
    "\tK_\\text{NO} -\\frac{d}{ \\sqrt{c \\times f}}=0 \n",
    "\\end{eqnarray}\n",
    "$$"
   ]
  },
  {
   "cell_type": "markdown",
   "id": "ea287260",
   "metadata": {},
   "source": [
    "À vous de jouer, avec l'ébauche ci-dessous :"
   ]
  },
  {
   "cell_type": "code",
   "execution_count": 1,
   "id": "0b3bd5c4",
   "metadata": {},
   "outputs": [],
   "source": [
    "import numpy as np \n",
    "\n",
    "# valeur de K_NO\n",
    "K_NO = 0.2*1e-2\n",
    "\n",
    "def fc_systeme(x, K_NO):\n",
    "    a,b,c,d,f = x\n",
    "    # je cree un vecteur vide pour contenir les 5 \"equations\" = 0\n",
    "    syst_x = np.empty(5)\n",
    "    syst_x[0] = ...\n",
    "    syst_x[1] = ...\n",
    "    return syst_x"
   ]
  },
  {
   "cell_type": "code",
   "execution_count": null,
   "id": "31585e79",
   "metadata": {},
   "outputs": [],
   "source": []
  }
 ],
 "metadata": {
  "kernelspec": {
   "display_name": "Python 3 (ipykernel)",
   "language": "python",
   "name": "python3"
  },
  "language_info": {
   "codemirror_mode": {
    "name": "ipython",
    "version": 3
   },
   "file_extension": ".py",
   "mimetype": "text/x-python",
   "name": "python",
   "nbconvert_exporter": "python",
   "pygments_lexer": "ipython3",
   "version": "3.11.4"
  }
 },
 "nbformat": 4,
 "nbformat_minor": 5
}
