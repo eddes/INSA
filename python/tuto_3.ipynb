{
 "cells": [
  {
   "cell_type": "markdown",
   "id": "8ac223b8",
   "metadata": {},
   "source": [
    "# Outils pour l'analyse énergétique - Partie \\#3\n",
    "\n",
    "Dans cette partie \\#3, des applications directes.\n",
    "\n",
    "Pour le réaliser sans installation, depuis un navigateur :\n",
    "<a href=\"https://colab.research.google.com/github/eddes/INSA/blob/main/python/tuto_3.ipynb\"> ça se passe ici<a>\n",
    "\n",
    "\n",
    "## Intégration d'une fonction\n",
    "Le calcul de l'énergie $E = \\int P.dt$ peut se faire numériquement (ouf). Pour cela il y a diverses méthodes d'intégration (<a href=\"https://fr.wikipedia.org/wiki/Calcul_num%C3%A9rique_d%27une_int%C3%A9grale\">un rappel<a>).\n",
    "\n",
    "    \n",
    "    \n",
    "Prenons l'exemple de la fonction $f(x)=x$ décrit ci-dessous."
   ]
  },
  {
   "cell_type": "code",
   "execution_count": 3,
   "id": "f4701329",
   "metadata": {},
   "outputs": [
    {
     "name": "stdout",
     "output_type": "stream",
     "text": [
      "et l'intégrale de y=x entre 0 et 1 vaut... 0.5\n"
     ]
    }
   ],
   "source": [
    "# l'import de la librairie qui fait ce genre de choses\n",
    "import scipy.integrate as integrate\n",
    "\n",
    "# on définit la fonction à intégrer\n",
    "def fc_interp(x):\n",
    "    return x\n",
    "\n",
    "E = integrate.quad(lambda x: fc_interp(x), 0, 1)[0]\n",
    "print(\"et l'intégrale de y=x entre 0 et 1 vaut...\", E)"
   ]
  },
  {
   "cell_type": "markdown",
   "id": "43b32c79",
   "metadata": {},
   "source": [
    "<span style=\"color:green\"> *À vous de jouer : calculez l'intégrale de $f(x)=x^3 +2$ entre $0$ et $1$ puis vérifiez la valeur analytiquement.* </span>"
   ]
  },
  {
   "cell_type": "code",
   "execution_count": 4,
   "id": "8c6c9d5a",
   "metadata": {},
   "outputs": [],
   "source": [
    "import scipy.integrate as integrate\n",
    "# ...\n"
   ]
  },
  {
   "cell_type": "markdown",
   "id": "bf370b7a",
   "metadata": {},
   "source": [
    "<span style=\"color:green\"> *Bonus hors séance : calculez l'énergie contenue dans le spectre solaire (<a href=\"https://eddes.github.io/#numerical-integration\">une piste<a>).* </span>"
   ]
  },
  {
   "cell_type": "markdown",
   "id": "496e5eb3",
   "metadata": {},
   "source": [
    "## Intégration de mesures\n",
    "Il est évidemment plus courant de travailler avec des points mesurés, et non avec des fonctions analytiques connues comme ci-avant. La procédure d'appel est la même, cependant nous allons créer une fonction qui interpole à partir des données. Ce sera une interpolation linéaires.\n",
    "\n",
    "Dans le cas présent, les données mesurées sont une puissance thermique sur un réseau de chaleur."
   ]
  },
  {
   "cell_type": "code",
   "execution_count": null,
   "id": "3c501f70",
   "metadata": {},
   "outputs": [],
   "source": [
    "import scipy.interpolate # package d'interpolation\n",
    "# les donnees mesurees\n",
    "x = temps\n",
    "y = puissance\n",
    "# creation fc d'interpolation a partir des donnees\n",
    "fc_interp = scipy.interpolate.interp1d(x, y)"
   ]
  },
  {
   "cell_type": "code",
   "execution_count": null,
   "id": "f44d5eac",
   "metadata": {},
   "outputs": [],
   "source": [
    "Ensuite "
   ]
  }
 ],
 "metadata": {
  "kernelspec": {
   "display_name": "Python 3 (ipykernel)",
   "language": "python",
   "name": "python3"
  },
  "language_info": {
   "codemirror_mode": {
    "name": "ipython",
    "version": 3
   },
   "file_extension": ".py",
   "mimetype": "text/x-python",
   "name": "python",
   "nbconvert_exporter": "python",
   "pygments_lexer": "ipython3",
   "version": "3.9.12"
  }
 },
 "nbformat": 4,
 "nbformat_minor": 5
}
