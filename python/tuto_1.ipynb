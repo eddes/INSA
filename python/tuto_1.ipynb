{
 "cells": [
  {
   "cell_type": "markdown",
   "id": "4c827f83",
   "metadata": {},
   "source": [
    "# Outils pour l'analyse énergétique\n",
    "\n",
    "Dans ce tuto numéro 1, quelques bases pour se familiariser avec l'outil python. Le tuto est à réaliser en autonomie avant la séance, celle-ci servant à la rémédiation.\n",
    "\n",
    "Pour le réaliser sans installation, depuis un navigateur :\n",
    "<a href=\"https://colab.research.google.com/github/eddes/INSA/blob/main/python/tuto_1.ipynb\"> ça se passe ici<a>\n",
    "   \n",
    "    \n",
    "## Tuto 1 -- Les bases\n",
    "    \n",
    "Apprenons les bases de python par la pratique avant de s'attaquer à des fonctions directement liées au génie énergétique.\n",
    "    \n",
    "### Premiers pas\n",
    "Affectation et affichage de variables"
   ]
  },
  {
   "cell_type": "code",
   "execution_count": 1,
   "id": "7aa3815f",
   "metadata": {},
   "outputs": [
    {
     "name": "stdout",
     "output_type": "stream",
     "text": [
      "test 2.5\n"
     ]
    }
   ],
   "source": [
    "variable = 2.5\n",
    "print(\"test\", variable)"
   ]
  },
  {
   "cell_type": "code",
   "execution_count": null,
   "id": "c563d251",
   "metadata": {},
   "outputs": [],
   "source": [
    "# ceci est un commentaire : il ne se passe rien quand le programme s'exécute\n",
    "print()\n",
    "print(\"au-dessus, on n'affiche rien\")"
   ]
  },
  {
   "cell_type": "markdown",
   "id": "28425158",
   "metadata": {},
   "source": [
    "<span style=\"color:green\"> *Exercice - affichez votre prénom en console (facile).* </span> "
   ]
  },
  {
   "cell_type": "code",
   "execution_count": null,
   "id": "f21327e9",
   "metadata": {},
   "outputs": [],
   "source": [
    "# à vous de jouer...\n"
   ]
  },
  {
   "cell_type": "markdown",
   "id": "6d0d593d",
   "metadata": {},
   "source": [
    "Les opérations mathématiques :"
   ]
  },
  {
   "cell_type": "code",
   "execution_count": 3,
   "id": "09297e06",
   "metadata": {},
   "outputs": [
    {
     "name": "stdout",
     "output_type": "stream",
     "text": [
      "Premier affichage :  2\n",
      "Deuxième affichage :  3\n",
      "Troisième affichage :  6\n",
      "4e affichage :  0\n",
      "Dernier affichage :  2\n"
     ]
    }
   ],
   "source": [
    "# exemples à exécuter : que se passe-t-il ? \n",
    "x=2\n",
    "print(\"Premier affichage : \", x)\n",
    "x=x+1\n",
    "print(\"Deuxième affichage : \", x)\n",
    "x+=3\n",
    "print(\"Troisième affichage : \", x)\n",
    "x-=x\n",
    "print(\"4e affichage : \", x)\n",
    "x=1\n",
    "x=2*x\n",
    "print(\"Dernier affichage : \", x)"
   ]
  },
  {
   "cell_type": "markdown",
   "id": "07535b73",
   "metadata": {},
   "source": [
    "L'opérateur puissance"
   ]
  },
  {
   "cell_type": "code",
   "execution_count": null,
   "id": "613c94ca",
   "metadata": {},
   "outputs": [],
   "source": [
    "a=2\n",
    "print(\"La variable =\", a)\n",
    "a=a**3\n",
    "print(\"La variable =\", a)\n",
    "a=2**0.5\n",
    "print(\"a vaut... \", a, \" (...racine de ... deux)\")"
   ]
  },
  {
   "cell_type": "markdown",
   "id": "7116a34f",
   "metadata": {},
   "source": [
    "### Boucles\n",
    "\n",
    "L'intérêt de la programmation est de faire réaliser des tâches répétitives par l'ordinateur : on va pour cela utiliser des boucles. Dans la syntaxe python - çàd la façon d'écrire en langage \"humain\" des instructions compréhensibles en \"langage machine\" - certaines instructions spécifiques sont **indentées**. Autrement dit elles sont disposées en retrait par rapport au reste du code (4 espaces ou 1 tabulation par exemple). Cela permet d'identifier le début et la fin de l'instruction (une boucle ou une condition par exemple). Il n'y a donc pas de mot clé *end* comme on peut en trouver dans d'autres langages.\n",
    "\n",
    "**Boucle for** - Un type de boucle utile consiste est la boucle *for* ou *pour*, qui balaie les éléments d'une liste. Un exemple :"
   ]
  },
  {
   "cell_type": "code",
   "execution_count": null,
   "id": "67244d0c",
   "metadata": {},
   "outputs": [],
   "source": [
    "for i in range(0,10):\n",
    "    print(i)"
   ]
  },
  {
   "cell_type": "markdown",
   "id": "0bd70ac1",
   "metadata": {},
   "source": [
    "<span style=\"color:green\"> *À vous de jouer : intégrez un compteur dans la boucle et affichez la valeur finale du compteur.* </span> "
   ]
  },
  {
   "cell_type": "code",
   "execution_count": null,
   "id": "7571f6a2",
   "metadata": {},
   "outputs": [],
   "source": [
    "# c'est la-dessous que ca se passe\n",
    "compteur=0\n",
    "for i in range(0,10):\n",
    "    print(i)"
   ]
  },
  {
   "cell_type": "markdown",
   "id": "2bdbfecd",
   "metadata": {},
   "source": [
    "**Boucle while** - Il est parfois utile de répéter une opération tant qu'un critère n'est pas atteint (convergence d'un algorithme, ...). La condition *while* ou *tant que* le permet."
   ]
  },
  {
   "cell_type": "code",
   "execution_count": null,
   "id": "38a8bc57",
   "metadata": {},
   "outputs": [],
   "source": [
    "i=0\n",
    "i_max=100\n",
    "print(\"avant boucle...\")\n",
    "while i < i_max:\n",
    "    i=i+30\n",
    "print(\"...fini\")"
   ]
  },
  {
   "cell_type": "markdown",
   "id": "ece56dbd",
   "metadata": {},
   "source": [
    "<span style=\"color:green\"> *À vous de jouer : comptez le nombre de passages de la boucle.* </span> "
   ]
  },
  {
   "cell_type": "code",
   "execution_count": null,
   "id": "5e299d46",
   "metadata": {},
   "outputs": [],
   "source": [
    "# modification a faire ci-dessous\n",
    "i=0\n",
    "i_max=100\n",
    "print(\"avant boucle...\")\n",
    "while i < i_max:\n",
    "    i=i+30\n",
    "print(\"...fini\")"
   ]
  },
  {
   "cell_type": "markdown",
   "id": "47ec5389",
   "metadata": {},
   "source": [
    "### Conditions\n",
    "\n",
    "Les conditions"
   ]
  },
  {
   "cell_type": "markdown",
   "id": "5220f68e",
   "metadata": {},
   "source": [
    "### Exercices"
   ]
  },
  {
   "cell_type": "markdown",
   "id": "812b34da",
   "metadata": {},
   "source": [
    "<span style=\"color:green\"> *À vous de jouer : créez deux boucles *for* imbriquées balayant les plages de 2 à 22 et de 1 à 10.*</span> "
   ]
  }
 ],
 "metadata": {
  "kernelspec": {
   "display_name": "Python 3 (ipykernel)",
   "language": "python",
   "name": "python3"
  },
  "language_info": {
   "codemirror_mode": {
    "name": "ipython",
    "version": 3
   },
   "file_extension": ".py",
   "mimetype": "text/x-python",
   "name": "python",
   "nbconvert_exporter": "python",
   "pygments_lexer": "ipython3",
   "version": "3.9.13"
  }
 },
 "nbformat": 4,
 "nbformat_minor": 5
}
