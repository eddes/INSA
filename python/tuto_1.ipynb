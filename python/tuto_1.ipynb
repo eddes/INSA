{
 "cells": [
  {
   "cell_type": "markdown",
   "metadata": {
    "colab_type": "text",
    "id": "view-in-github"
   },
   "source": [
    "<a href=\"https://colab.research.google.com/github/eddes/buildingphysics/blob/feature%2Fpipenv_and_notebooks/notebooks/chapter_1/Euler_and_CN_schemes.ipynb\" target=\"_parent\"><img src=\"https://colab.research.google.com/assets/colab-badge.svg\" alt=\"Open In Colab\"/></a>"
   ]
  }
},
{
 "cells": [
  {
   "cell_type": "markdown",
   "id": "4c827f83",
   "metadata": {},
   "source": [
    "# Outils pour l'analyse énergétique\n",
    "\n",
    "Dans ce tuto numéro 1, quelques bases pour se familiariser avec l'outil.\n",
    "\n",
    "## Tuto 1 -- Les bases\n",
    "\n",
    "Apprenons python par la pratique avant de. Premier"
   ]
  },
  {
   "cell_type": "code",
   "execution_count": null,
   "id": "7aa3815f",
   "metadata": {},
   "outputs": [],
   "source": [
    "print(\"test\")"
   ]
  },
  {
   "cell_type": "markdown",
   "id": "cf78b7bf",
   "metadata": {},
   "source": [
    "### Exercice\n",
    "À vous de jouer : faites afficher votre prénom en console (facile)."
   ]
  },
  {
   "cell_type": "code",
   "execution_count": null,
   "id": "a7013176",
   "metadata": {},
   "outputs": [],
   "source": [
    "# ceci est un commentaire : il ne se passe rien quand le programme s'exécute\n",
    "print()"
   ]
  },
  {
   "cell_type": "markdown",
   "id": "47d26177",
   "metadata": {},
   "source": [
    "L'intérêt de la programmation est de faire réaliser des tâches répétitives par l'ordinateur : on va pour cela utiliser des boucles. Dans la syntaxe python - çàd la façon d'écrire en langage \"humain\" des instructions compréhensibles en \"langage machine\" - certaines instructions spécifiques sont **indentées**. Autrement dit elles sont disposées en retrait par rapport au reste du code (4 espaces ou 1 tabulation par exemple). Cela permet d'identifier le début et la fin de l'instruction (une boucle ou une condition par exemple). Il n'y a donc pas de mot clé *end* comme on peut en trouver dans d'autres langages."
   ]
  },
  {
   "cell_type": "code",
   "execution_count": null,
   "id": "5db2290b",
   "metadata": {},
   "outputs": [],
   "source": [
    "for i in range(0,10):\n",
    "    print(i)"
   ]
  },
  {
   "cell_type": "markdown",
   "id": "4f11686a",
   "metadata": {},
   "source": [
    "### Exercice\n",
    "À vous de jouer : insérez une 2e boucle dans la première et faitee"
   ]
  }
 ],
 "metadata": {
  "kernelspec": {
   "display_name": "Python 3 (ipykernel)",
   "language": "python",
   "name": "python3"
  },
  "language_info": {
   "codemirror_mode": {
    "name": "ipython",
    "version": 3
   },
   "file_extension": ".py",
   "mimetype": "text/x-python",
   "name": "python",
   "nbconvert_exporter": "python",
   "pygments_lexer": "ipython3",
   "version": "3.9.13"
  }
 },
 "nbformat": 4,
 "nbformat_minor": 5
}
