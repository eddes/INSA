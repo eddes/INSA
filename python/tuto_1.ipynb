# Outils pour l'analyse énergétique

Dans ce tuto numéro 1, quelques bases pour se familiariser avec l'outil python. Le tuto est à réaliser en autonomie avant la séance, celle-ci servant à la rémédiation.

Pour le réaliser sans installation, depuis un navigateur :
<a href="https://colab.research.google.com/github/eddes/INSA/blob/main/python/tuto_1.ipynb"> ça se passe ici<a>

[![Ca se passe ici](https://colab.research.google.com/assets/colab-badge.svg)](https://colab.research.google.com/github/eddes/INSA/blob/main/python/tuto_1.ipynb)
    
    
## Tuto 1 -- Les bases
    
Apprenons les bases de python par la pratique avant de s'attaquer à des fonctions directement liées au génie énergétique.
    
### Premiers pas
Affectation et affichage de variables
