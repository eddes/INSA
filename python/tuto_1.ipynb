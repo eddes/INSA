
"https://colab.research.google.com/github/eddes/INSA/edit/main/python/tuto_1.ipynb"

# Tuto python 1

## Les bases

## Les boucles

## Les fonctions
