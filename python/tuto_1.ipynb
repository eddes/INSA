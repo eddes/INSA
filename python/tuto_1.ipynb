{
 "cells": [
  {
   "cell_type": "markdown",
   "id": "4c827f83",
   "metadata": {},
   "source": [
    "# Outils pour l'analyse énergétique - Tuto \\#1\n",
    "\n",
    "Dans ce tuto numéro 1, quelques bases pour se familiariser avec l'outil python. Le tuto est à réaliser en autonomie avant la séance, celle-ci servant à la rémédiation.\n",
    "\n",
    "Pour le réaliser sans installation, depuis un navigateur :\n",
    "<a href=\"https://colab.research.google.com/github/eddes/INSA/blob/main/python/tuto_1.ipynb\"> ça se passe ici<a>\n",
    "        \n",
    "# Premiers pas\n",
    "\n",
    "Apprenons les bases de python par la pratique avant de s'attaquer à des fonctions directement liées au génie énergétique. Affectation et affichage de variables"
   ]
  },
  {
   "cell_type": "code",
   "execution_count": 1,
   "id": "7aa3815f",
   "metadata": {},
   "outputs": [
    {
     "name": "stdout",
     "output_type": "stream",
     "text": [
      "test 2.5\n"
     ]
    }
   ],
   "source": [
    "variable = 2.5\n",
    "print(\"test\", variable)"
   ]
  },
  {
   "cell_type": "code",
   "execution_count": null,
   "id": "c563d251",
   "metadata": {},
   "outputs": [],
   "source": [
    "# ceci est un commentaire : il ne se passe rien quand le programme s'exécute\n",
    "print()\n",
    "print(\"au-dessus, on n'affiche rien\")"
   ]
  },
  {
   "cell_type": "markdown",
   "id": "28425158",
   "metadata": {},
   "source": [
    "<span style=\"color:green\"> *Exercice - affichez votre prénom en console (facile).* </span> "
   ]
  },
  {
   "cell_type": "code",
   "execution_count": null,
   "id": "f21327e9",
   "metadata": {},
   "outputs": [],
   "source": [
    "# à vous de jouer...\n"
   ]
  },
  {
   "cell_type": "markdown",
   "id": "6d0d593d",
   "metadata": {},
   "source": [
    "Les opérations mathématiques :"
   ]
  },
  {
   "cell_type": "code",
   "execution_count": 3,
   "id": "09297e06",
   "metadata": {},
   "outputs": [
    {
     "name": "stdout",
     "output_type": "stream",
     "text": [
      "Premier affichage :  2\n",
      "Deuxième affichage :  3\n",
      "Troisième affichage :  6\n",
      "4e affichage :  0\n",
      "Dernier affichage :  2\n"
     ]
    }
   ],
   "source": [
    "# exemples à exécuter : que se passe-t-il ? \n",
    "x=2\n",
    "print(\"Premier affichage : \", x)\n",
    "x=x+1\n",
    "print(\"Deuxième affichage : \", x)\n",
    "x+=3\n",
    "print(\"Troisième affichage : \", x)\n",
    "x-=x\n",
    "print(\"4e affichage : \", x)\n",
    "x=1\n",
    "x=2*x\n",
    "print(\"Dernier affichage : \", x)"
   ]
  },
  {
   "cell_type": "markdown",
   "id": "07535b73",
   "metadata": {},
   "source": [
    "L'opérateur puissance"
   ]
  },
  {
   "cell_type": "code",
   "execution_count": null,
   "id": "613c94ca",
   "metadata": {},
   "outputs": [],
   "source": [
    "a=2\n",
    "print(\"La variable =\", a)\n",
    "a=a**3\n",
    "print(\"La variable =\", a)\n",
    "a=2**0.5\n",
    "print(\"a vaut... \", a, \" (...racine de ... deux)\")"
   ]
  },
  {
   "cell_type": "markdown",
   "id": "7116a34f",
   "metadata": {},
   "source": [
    "# Boucles\n",
    "\n",
    "L'intérêt de la programmation est de faire réaliser des tâches répétitives par l'ordinateur : on va pour cela utiliser des boucles. Dans la syntaxe python - çàd la façon d'écrire en langage \"humain\" des instructions compréhensibles en \"langage machine\" - certaines instructions spécifiques sont **indentées**. Autrement dit elles sont disposées en retrait par rapport au reste du code (4 espaces ou 1 tabulation par exemple). Cela permet d'identifier le début et la fin de l'instruction (une boucle ou une condition par exemple). Il n'y a donc pas de mot clé *end* comme on peut en trouver dans d'autres langages.\n",
    "\n",
    "## Boucle for \n",
    "Un type de boucle utile consiste est la boucle *for* ou *pour*, qui balaie les éléments d'une liste. Un exemple :"
   ]
  },
  {
   "cell_type": "code",
   "execution_count": null,
   "id": "67244d0c",
   "metadata": {},
   "outputs": [],
   "source": [
    "for i in range(0,10):\n",
    "    print(i)"
   ]
  },
  {
   "cell_type": "markdown",
   "id": "0bd70ac1",
   "metadata": {},
   "source": [
    "<span style=\"color:green\"> *À vous de jouer : intégrez un compteur dans la boucle et affichez la valeur finale du compteur.* </span> "
   ]
  },
  {
   "cell_type": "code",
   "execution_count": null,
   "id": "7571f6a2",
   "metadata": {},
   "outputs": [],
   "source": [
    "# c'est la-dessous que ca se passe\n",
    "compteur=0\n",
    "for i in range(0,10):\n",
    "    print(i)"
   ]
  },
  {
   "cell_type": "markdown",
   "id": "2bdbfecd",
   "metadata": {},
   "source": [
    "## Boucle while\n",
    "Il est parfois utile de répéter une opération tant qu'un critère n'est pas atteint (convergence d'un algorithme, ...). La condition *while* ou *tant que* le permet."
   ]
  },
  {
   "cell_type": "code",
   "execution_count": null,
   "id": "38a8bc57",
   "metadata": {},
   "outputs": [],
   "source": [
    "i=0\n",
    "i_max=100\n",
    "print(\"avant boucle...\")\n",
    "while i < i_max:\n",
    "    i=i+30\n",
    "print(\"...fini\")"
   ]
  },
  {
   "cell_type": "markdown",
   "id": "ece56dbd",
   "metadata": {},
   "source": [
    "<span style=\"color:green\"> *À vous de jouer : comptez le nombre de passages de la boucle.* </span> "
   ]
  },
  {
   "cell_type": "code",
   "execution_count": null,
   "id": "5e299d46",
   "metadata": {},
   "outputs": [],
   "source": [
    "# modification a faire ci-dessous\n",
    "i=0\n",
    "i_max=100\n",
    "print(\"avant boucle...\")\n",
    "while i < i_max:\n",
    "    i=i+30\n",
    "print(\"...fini\")"
   ]
  },
  {
   "cell_type": "markdown",
   "id": "47ec5389",
   "metadata": {},
   "source": [
    "## Condition si\n",
    "\n",
    "La plus connue des conditions est le \"si\". Exemple d'utilisation par la pratique :"
   ]
  },
  {
   "cell_type": "code",
   "execution_count": null,
   "id": "137204f8",
   "metadata": {},
   "outputs": [],
   "source": [
    "# la plus connue\n",
    "a=1\n",
    "if a<0: \n",
    "    print(\"négatif\")\n",
    "else:\n",
    "    print(\"positif\")"
   ]
  },
  {
   "cell_type": "markdown",
   "id": "468e66db",
   "metadata": {},
   "source": [
    "La condition peut inclure un *else if*, ou *sinon si*:"
   ]
  },
  {
   "cell_type": "code",
   "execution_count": 9,
   "id": "f6990ca0",
   "metadata": {},
   "outputs": [
    {
     "name": "stdout",
     "output_type": "stream",
     "text": [
      "plus grand que 1\n"
     ]
    }
   ],
   "source": [
    "a = 1\n",
    "if a<0:\n",
    "    print(\"negatif\")\n",
    "elif a>=0 and a<1 :\n",
    "    print(\"entre 0 et 1\")\n",
    "else:\n",
    "    print(\"plus grand que 1\")"
   ]
  },
  {
   "cell_type": "code",
   "execution_count": null,
   "id": "f28155ca",
   "metadata": {},
   "outputs": [],
   "source": [
    "<span style=\"color:green\"> *À vous de jouer : testez les conditions en modifiant les valeurs de a pour afficher les trois cas.* </span> "
   ]
  },
  {
   "cell_type": "markdown",
   "id": "ef8040a6",
   "metadata": {},
   "source": [
    "## Les listes\n",
    "Un aspect pratique de python est la facilité à stocker des éléments en mémoire (résultats de calculs, noms, ...).\n",
    "On déclare pour cela une liste :"
   ]
  },
  {
   "cell_type": "code",
   "execution_count": 4,
   "id": "0f259d2a",
   "metadata": {},
   "outputs": [
    {
     "name": "stdout",
     "output_type": "stream",
     "text": [
      "['python', 1]\n",
      "python\n",
      "1\n",
      "python\n",
      "1\n"
     ]
    }
   ],
   "source": [
    "# declaration de liste\n",
    "liste=[]\n",
    "liste.append('python')\n",
    "liste.append(1)\n",
    "print(liste)\n",
    "# on peut aussi balayer les listes directement avec \n",
    "for element in liste:\n",
    "    print(element)\n",
    "# ca marche avec n'importe quel iterateur (\"truc, element, zbul, ding...\")\n",
    "for truc in liste:\n",
    "    print(truc)"
   ]
  },
  {
   "cell_type": "markdown",
   "id": "66c33172",
   "metadata": {},
   "source": [
    "<span style=\"color:green\"> *À vous de jouer : faites une boucle pour stocker les entiers de 1 à 20 puis une seconde qui les affiche un à un.* </span> "
   ]
  },
  {
   "cell_type": "code",
   "execution_count": null,
   "id": "936d50fc",
   "metadata": {},
   "outputs": [],
   "source": [
    "# c'est ici que ça se se passe... "
   ]
  },
  {
   "cell_type": "markdown",
   "id": "f7f6a1af",
   "metadata": {},
   "source": [
    "## Les vecteurs\n",
    "Dans bien des cas, nous allons faire des opérations sur des nombres, qui seront stockés en colonnes, en tableaux, en vecteurs (*array* en anglais).\n",
    "Dans python, outre les éléments de base qui permettent de réaliser les opérations classiques (boucles/conditions/listes/...) on peut faire appel à des *librairies* (diminutif affectueux *lib*) contenant des outils dédiés à divers domaines : pour les maths numériques, c'est **numpy**.\n",
    "\n",
    "Pour pouvoir s'en servir, il faut \"importer\" la librairie numpy (et que celle-ci soit installée)"
   ]
  },
  {
   "cell_type": "code",
   "execution_count": 7,
   "id": "5db61ff1",
   "metadata": {},
   "outputs": [
    {
     "name": "stdout",
     "output_type": "stream",
     "text": [
      "[0 2 4 6 8]\n",
      "la taille -length- du vecteur est...  5\n"
     ]
    }
   ],
   "source": [
    "import numpy as np #avec un petit raccourci pour s'en servir\n",
    "print(\"on crée un vecteur de 0 à 10 exclu, avec un pas de 2\")\n",
    "vecteur= np.arange(0,10,2)\n",
    "print(vecteur)\n",
    "print(\"la taille -length- du vecteur est... \", len(vecteur))"
   ]
  },
  {
   "cell_type": "markdown",
   "id": "5220f68e",
   "metadata": {},
   "source": [
    "## Quelques exercices avant de poursuivre"
   ]
  },
  {
   "cell_type": "markdown",
   "id": "d9a9b3aa",
   "metadata": {},
   "source": [
    "<span style=\"color:green\"> *À vous de jouer : Créez un vecteur de 0 à 5555 par pas de 23 et donnez sa taille.*</span> "
   ]
  },
  {
   "cell_type": "code",
   "execution_count": null,
   "id": "a8f2f55f",
   "metadata": {},
   "outputs": [],
   "source": [
    "#c'est parti...\n",
    "import numpy as np # un coup de pouce"
   ]
  },
  {
   "cell_type": "markdown",
   "id": "812b34da",
   "metadata": {},
   "source": [
    "<span style=\"color:green\"> *À vous de jouer : créez deux boucles *for* imbriquées balayant les plages de 2 à 22 et de 1 à 10.*</span> "
   ]
  },
  {
   "cell_type": "code",
   "execution_count": null,
   "id": "a6300a0f",
   "metadata": {},
   "outputs": [],
   "source": [
    "#c'est parti...avec une coup de pouce\n",
    "for i in # ... in quoi ?"
   ]
  },
  {
   "cell_type": "markdown",
   "id": "40c06cc7",
   "metadata": {},
   "source": [
    "## Fonctions\n",
    "Afin de pouvoir réutiliser des bouts de code, il est utile de créer ses propres fonctions.\n",
    "Une fonction donnée ici à titre d'exemple (elle n'a pas d'utilité pratique outre de fournir un exemple de fonction python...) est la fonction **moyenne** : "
   ]
  },
  {
   "cell_type": "code",
   "execution_count": 8,
   "id": "92507b00",
   "metadata": {},
   "outputs": [
    {
     "name": "stdout",
     "output_type": "stream",
     "text": [
      "la moyenne vaut  3.5\n"
     ]
    }
   ],
   "source": [
    "#pour l'exemple, la moyenne\n",
    "\n",
    "# notez la syntaxe de définition de la fonction **def**, suivi du nom, et des arguments nécessaires (= ce qu'on peut lui donner en entrée)\n",
    "def fc_moyenne(x, y): \n",
    "    return (x+y)/2\n",
    "\n",
    "moy = fc_moyenne(2,5) # on l'appelle ensuite par son nom et on lui donne deux arguments comme prévu\n",
    "print(\"la moyenne vaut \", moy)"
   ]
  },
  {
   "cell_type": "markdown",
   "id": "7df89892",
   "metadata": {},
   "source": [
    "Pour les calculs en physique de l'air humide, on fait appel fréquemment à la pression de vapeur saturante $p_{vs}(T)$ qui dépend de la température. Elle se calcule comme $$ p_{vs}(T) = 10^{a + \\frac{b \\times T}{c + T}} $$ avec $T$ en Celsius et $a=2.7877$, $b=7.625$ et $c=241.6$.\n",
    "\n",
    "Codez cette fonction et vérifiez que la pression de vapeur saturante renvoyée pour 20°C est de l'ordre de ~2347 \\[Pa\\]."
   ]
  },
  {
   "cell_type": "code",
   "execution_count": null,
   "id": "6e2aaa92",
   "metadata": {},
   "outputs": [],
   "source": [
    "# un petit coup de main pour démarrer...\n",
    "def fc_pvs(T):\n",
    "    a =\n",
    "    pvs = \n",
    "    return pvs\n",
    "\n",
    "print(\"on obtient pour 20°C... \", fc_pvs(20))"
   ]
  },
  {
   "cell_type": "markdown",
   "id": "92a67ff9",
   "metadata": {},
   "source": [
    "## Les tracés\n",
    "Une fonction fondamentale est le tracé sur graphique. C'est d'ailleurs probablement ce qui a fait la réputation de python : sa facilité à créer des graphiques esthétiques et efficaces (<a href=\"https://matplotlib.org/cheatsheets/\"> quelques exemples<a>).\n",
    "    \n",
    "Pour les tracés, il faut importer une partie de **matplotlib** appelée **pyplot**"
   ]
  },
  {
   "cell_type": "code",
   "execution_count": 1,
   "id": "8fe0a38a",
   "metadata": {},
   "outputs": [
    {
     "data": {
      "text/plain": [
       "[<matplotlib.lines.Line2D at 0x1c94ee4f1c0>]"
      ]
     },
     "execution_count": 1,
     "metadata": {},
     "output_type": "execute_result"
    },
    {
     "data": {
      "image/png": "[encoded data removed]",
      "text/plain": [
       "<Figure size 640x480 with 1 Axes>"
      ]
     },
     "metadata": {},
     "output_type": "display_data"
    }
   ],
   "source": [
    "import matplotlib.pyplot as plt # on lui donne tout de suite un petit surnom raccourci, ce sera son blaze pour la suite\n",
    "import numpy as np\n",
    "\n",
    "#on definit 2 vecteurs\n",
    "x=np.arange(0,10,1)\n",
    "y=x**0.5  # y est la racine carrée de x\n",
    "plt.plot(x,y)"
   ]
  },
  {
   "cell_type": "markdown",
   "id": "1ef595dd",
   "metadata": {},
   "source": [
    "Ensuite on peut changer des options :"
   ]
  },
  {
   "cell_type": "code",
   "execution_count": 10,
   "id": "4ddadf52",
   "metadata": {},
   "outputs": [
    {
     "data": {
      "text/plain": [
       "Text(0.5, 0, 'les X')"
      ]
     },
     "execution_count": 10,
     "metadata": {},
     "output_type": "execute_result"
    },
    {
     "data": {
      "image/png": "[encoded data removed]",
      "text/plain": [
       "<Figure size 640x480 with 1 Axes>"
      ]
     },
     "metadata": {},
     "output_type": "display_data"
    }
   ],
   "source": [
    "plt.xlim(0,6)# raccourcir la plage des x\n",
    "plt.plot(x,y,'o') # mettre des points sans ligne\n",
    "plt.plot(x,y,'r') # changer la couleur\n",
    "plt.xlabel(\"les X\")\n",
    "plt.ylabel(\"les Y\")\n",
    "plt.savefig('./la_figure.pdf') # et on peut meme sauver dans le dossier ou est le script"
   ]
  },
  {
   "cell_type": "code",
   "execution_count": null,
   "id": "52f9b445",
   "metadata": {},
   "outputs": [],
   "source": [
    "Pour les autres mises en forme... la barre de recherche là-haut est votre amie."
   ]
  }
 ],
 "metadata": {
  "kernelspec": {
   "display_name": "Python 3 (ipykernel)",
   "language": "python",
   "name": "python3"
  },
  "language_info": {
   "codemirror_mode": {
    "name": "ipython",
    "version": 3
   },
   "file_extension": ".py",
   "mimetype": "text/x-python",
   "name": "python",
   "nbconvert_exporter": "python",
   "pygments_lexer": "ipython3",
   "version": "3.9.13"
  }
 },
 "nbformat": 4,
 "nbformat_minor": 5
}
