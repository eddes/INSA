{
 "cells": [
  {
   "cell_type": "markdown",
   "id": "bee30ff8",
   "metadata": {},
   "source": [
    "# Récupération de flux solaires avec pvlib\n",
    "\n",
    "\n",
    "La librairie `pvlib` est un outil puissant pour le calcul de la production électrique de systèmes photovoltaïques. On se propose ici d'en utiliser une partie à des fins de reconstitution des flux solaires. Le code démontre une utilisation d'un fichier météorologique \"EPW\" permettant, à partir des flux solair horizontal et normal incident, de calculer le flux direct et diffus sur une paroi d'orientation et d'inclinaison donnée."
   ]
  },
  {
   "cell_type": "code",
   "execution_count": 2,
   "id": "8d5f9f9e",
   "metadata": {},
   "outputs": [
    {
     "data": {
      "text/plain": [
       "<AxesSubplot:>"
      ]
     },
     "execution_count": 2,
     "metadata": {},
     "output_type": "execute_result"
    },
    {
     "data": {
      "image/png": "[encoded data removed]",
      "text/plain": [
       "<Figure size 432x288 with 1 Axes>"
      ]
     },
     "metadata": {
      "needs_background": "light"
     },
     "output_type": "display_data"
    }
   ],
   "source": [
    "# -*- coding: utf-8 -*-\n",
    "import matplotlib.pyplot as plt\n",
    "import numpy as np\n",
    "from pvlib import solarposition\n",
    "from pvlib import irradiance\n",
    "import pandas as pd\n",
    "\n",
    "def fc_flux_diffus_direct(global_horizontal, diffus_horizontal, \n",
    "                    latitude, longitude, \n",
    "                    inclinaison, orientation, pression):\n",
    "    \n",
    "    # inclinaison=np.ones(len(global_horizontal))*inclinaison\n",
    "    # orientation=np.ones(len(global_horizontal))*orientation\n",
    "    \n",
    "    # determination de la hauteur solaire et de l'angle d'incidence avec pvlib\n",
    "    tz = 'Europe/Paris'\n",
    "    times = pd.date_range('2005-01-01 00:00:00', '2006-01-01 00:00:00', inclusive='left', freq='H', tz=tz)\n",
    "    solpos = solarposition.get_solarposition(times, latitude, longitude)\n",
    "    # on le fait pour tous les pas de temps\n",
    "    azimut, hauteur_solaire = solpos[\"azimuth\"].values, solpos[\"elevation\"].values\n",
    "    zenith, app_zen = solpos[\"zenith\"].values, solpos[\"apparent_zenith\"].values\n",
    "    \n",
    "    # calcul du DNI et Direct\n",
    "    direct_normal = irradiance.disc(global_horizontal.values, zenith, times, pressure=pression.values)['dni']\n",
    "    direct = irradiance.beam_component(inclinaison, orientation, zenith, azimut, direct_normal.values)\n",
    "    \n",
    "    # Masse atmospherique (Kasten and Young 1989)\n",
    "    hauteur_solaire = np.where(hauteur_solaire< 0, 0, hauteur_solaire)\n",
    "    ksi_z = 90-hauteur_solaire\n",
    "    airmass = ( np.cos(np.radians(ksi_z)) + 0.50572*np.power(96.07995-ksi_z,-1.6364) )**-1\n",
    "    I0=1368 # on peut la faire varier avec le temps\n",
    "        \n",
    "    diffus = irradiance.perez(inclinaison, orientation, diffus_horizontal, direct_normal.values, \n",
    "                              I0, app_zen, azimut, airmass,  return_components=False)\n",
    "    \n",
    "    return diffus, direct\n",
    "\n",
    "\n",
    "# on lit un ficher epw et on le met dans un dataframe\n",
    "# pour ce faire nous avons besoin des noms des colonnes : ils sont ci-apres\n",
    "colnames = ['year', 'month', 'day', 'hour', 'minute', 'data_source_unct',\n",
    "            'temp_air', 'temp_dew', 'relative_humidity',\n",
    "            'atmospheric_pressure', 'etr', 'etrn', 'ghi_infrared', 'ghi',\n",
    "            'dni', 'dhi', 'global_hor_illum', 'direct_normal_illum',\n",
    "            'diffuse_horizontal_illum', 'zenith_luminance',\n",
    "            'wind_direction', 'wind_speed', 'total_sky_cover',\n",
    "            'opaque_sky_cover', 'visibility', 'ceiling_height',\n",
    "            'present_weather_observation', 'present_weather_codes',\n",
    "            'precipitable_water', 'aerosol_optical_depth', 'snow_depth',\n",
    "            'days_since_last_snowfall', 'albedo',\n",
    "            'liquid_precipitation_depth', 'liquid_precipitation_quantity']\n",
    "\n",
    "# lecture du ficher + affectation des noms de colonnes\n",
    "fichier_epw='./src/LE_HAVRE_OCTEVILLE-hour.epw'\n",
    "data_meteo=pd.read_csv(fichier_epw, sep=\",\", skiprows = 8, header=None, names=colnames)\n",
    "\n",
    "# ensuite on lit juste l'entete du EPW pour avoir lat/lon\n",
    "header_epw = pd.read_csv(fichier_epw, sep=\",\", nrows = 1, header=None)\n",
    "latitude= header_epw[6][0]\n",
    "longitude = header_epw[7][0]\n",
    "# Les \"parametres solaires\" heure par heure\n",
    "\n",
    "# le nord est a 0° /le sud a 180°\n",
    "inclinaison, orientation = 0, 0\n",
    "diffus, direct = fc_flux_diffus_direct(data_meteo['dni'], data_meteo['dhi'], latitude, longitude, inclinaison, orientation, data_meteo['atmospheric_pressure'])\n",
    "\n",
    "# on cree un dataframe pour stocker les donnees\n",
    "df=pd.DataFrame()\n",
    "tz = 'Europe/Paris' # il faut donner le fuseau horaire tz\n",
    "df.index = pd.date_range('2005-01-01 00:00:00', '2006-01-01 00:00:00', inclusive='left', freq='H', tz=tz)\n",
    "\n",
    "# ensuite on ajoute les deux vecteurs terme a terme avec np (permet d'obtenir float+NaN = float)\n",
    "total = np.add(diffus,direct)\n",
    "\n",
    "df['diffus'] = diffus.values\n",
    "df['direct'] =  direct\n",
    "df['total'] =  total.values\n",
    "\n",
    "# on remplace les NaN\n",
    "for elt in df.keys():\n",
    "    df[elt] = df[elt].replace(np.nan, 0)\n",
    "\n",
    "df.plot()"
   ]
  },
  {
   "cell_type": "markdown",
   "id": "26a30d0c",
   "metadata": {},
   "source": [
    "À vous de jouer : sur l'année, quelle est la part de l'énergie annuelle fournie par le diffus et par le direct ? (faites la somme et vérifiez la valeur de l'ordre de $\\sim 10^3$ kWh/m²/an)"
   ]
  },
  {
   "cell_type": "code",
   "execution_count": 31,
   "id": "f31a18b7",
   "metadata": {},
   "outputs": [
    {
     "name": "stdout",
     "output_type": "stream",
     "text": [
      "413.2520027080483\n",
      "603.9778592730288\n"
     ]
    }
   ],
   "source": [
    "print(df.direct.sum()/1000)\n",
    "print(df.diffus.sum()/1000)"
   ]
  },
  {
   "cell_type": "markdown",
   "id": "2f883dd0-8d11-4314-adb3-816c44c3d980",
   "metadata": {},
   "source": [
    "À vous de jouer : tracez le flux moyen sur une journée (partez avec un `df.groupby(df.index.hour)...` ?) et évaluez la fraction flux diffus/flux total en toute heure de cette journée moyenne."
   ]
  },
  {
   "cell_type": "code",
   "execution_count": 32,
   "id": "5d4c1b6e-5270-4be6-87d1-e1ef0d608119",
   "metadata": {},
   "outputs": [],
   "source": [
    "# solution-astuce : cela se fait en une ligne car on peut utiliser df.groupby(df.index.hour).nomdunecle.mean() \n",
    "# ..."
   ]
  },
  {
   "cell_type": "markdown",
   "id": "8798ad0f",
   "metadata": {},
   "source": []
  }
 ],
 "metadata": {
  "kernelspec": {
   "display_name": "Python 3 (ipykernel)",
   "language": "python",
   "name": "python3"
  },
  "language_info": {
   "codemirror_mode": {
    "name": "ipython",
    "version": 3
   },
   "file_extension": ".py",
   "mimetype": "text/x-python",
   "name": "python",
   "nbconvert_exporter": "python",
   "pygments_lexer": "ipython3",
   "version": "3.9.12"
  }
 },
 "nbformat": 4,
 "nbformat_minor": 5
}
